{
 "cells": [
  {
   "cell_type": "markdown",
   "id": "37f581d1",
   "metadata": {},
   "source": [
    "# Supervised Machine Learning "
   ]
  },
  {
   "cell_type": "markdown",
   "id": "1222f045",
   "metadata": {},
   "source": [
    "# Introduction: \n",
    "Work with bank data to understand more about why a person signs a contract with the bank. The data encompasses information about persons, the outreach by the bank, as well as if the bank had reached their target in getting a customer to sign a contract with them. \n",
    "# Method: \n",
    "Do a small EDA on data and fit the model to K Nearest Neighbors. After, look at other models to see which would work best with this dataset and the goal in mind\n",
    "The target goal is to determine what factor most affects target (if a customer signs a contract or not)"
   ]
  },
  {
   "cell_type": "code",
   "execution_count": 2,
   "id": "241fc527",
   "metadata": {},
   "outputs": [
    {
     "data": {
      "text/html": [
       "<div>\n",
       "<style scoped>\n",
       "    .dataframe tbody tr th:only-of-type {\n",
       "        vertical-align: middle;\n",
       "    }\n",
       "\n",
       "    .dataframe tbody tr th {\n",
       "        vertical-align: top;\n",
       "    }\n",
       "\n",
       "    .dataframe thead th {\n",
       "        text-align: right;\n",
       "    }\n",
       "</style>\n",
       "<table border=\"1\" class=\"dataframe\">\n",
       "  <thead>\n",
       "    <tr style=\"text-align: right;\">\n",
       "      <th></th>\n",
       "      <th>age</th>\n",
       "      <th>job</th>\n",
       "      <th>marital</th>\n",
       "      <th>education</th>\n",
       "      <th>default</th>\n",
       "      <th>housing</th>\n",
       "      <th>loan</th>\n",
       "      <th>contact</th>\n",
       "      <th>month</th>\n",
       "      <th>day_of_week</th>\n",
       "      <th>...</th>\n",
       "      <th>campaign</th>\n",
       "      <th>pdays</th>\n",
       "      <th>previous</th>\n",
       "      <th>poutcome</th>\n",
       "      <th>emp.var.rate</th>\n",
       "      <th>cons.price.idx</th>\n",
       "      <th>cons.conf.idx</th>\n",
       "      <th>euribor3m</th>\n",
       "      <th>nr.employed</th>\n",
       "      <th>y</th>\n",
       "    </tr>\n",
       "  </thead>\n",
       "  <tbody>\n",
       "    <tr>\n",
       "      <th>0</th>\n",
       "      <td>56</td>\n",
       "      <td>housemaid</td>\n",
       "      <td>married</td>\n",
       "      <td>basic.4y</td>\n",
       "      <td>no</td>\n",
       "      <td>no</td>\n",
       "      <td>no</td>\n",
       "      <td>telephone</td>\n",
       "      <td>may</td>\n",
       "      <td>mon</td>\n",
       "      <td>...</td>\n",
       "      <td>1</td>\n",
       "      <td>999</td>\n",
       "      <td>0</td>\n",
       "      <td>nonexistent</td>\n",
       "      <td>1.1</td>\n",
       "      <td>93.994</td>\n",
       "      <td>-36.4</td>\n",
       "      <td>4.857</td>\n",
       "      <td>5191.0</td>\n",
       "      <td>no</td>\n",
       "    </tr>\n",
       "    <tr>\n",
       "      <th>1</th>\n",
       "      <td>57</td>\n",
       "      <td>services</td>\n",
       "      <td>married</td>\n",
       "      <td>high.school</td>\n",
       "      <td>unknown</td>\n",
       "      <td>no</td>\n",
       "      <td>no</td>\n",
       "      <td>telephone</td>\n",
       "      <td>may</td>\n",
       "      <td>mon</td>\n",
       "      <td>...</td>\n",
       "      <td>1</td>\n",
       "      <td>999</td>\n",
       "      <td>0</td>\n",
       "      <td>nonexistent</td>\n",
       "      <td>1.1</td>\n",
       "      <td>93.994</td>\n",
       "      <td>-36.4</td>\n",
       "      <td>4.857</td>\n",
       "      <td>5191.0</td>\n",
       "      <td>no</td>\n",
       "    </tr>\n",
       "    <tr>\n",
       "      <th>2</th>\n",
       "      <td>37</td>\n",
       "      <td>services</td>\n",
       "      <td>married</td>\n",
       "      <td>high.school</td>\n",
       "      <td>no</td>\n",
       "      <td>yes</td>\n",
       "      <td>no</td>\n",
       "      <td>telephone</td>\n",
       "      <td>may</td>\n",
       "      <td>mon</td>\n",
       "      <td>...</td>\n",
       "      <td>1</td>\n",
       "      <td>999</td>\n",
       "      <td>0</td>\n",
       "      <td>nonexistent</td>\n",
       "      <td>1.1</td>\n",
       "      <td>93.994</td>\n",
       "      <td>-36.4</td>\n",
       "      <td>4.857</td>\n",
       "      <td>5191.0</td>\n",
       "      <td>no</td>\n",
       "    </tr>\n",
       "    <tr>\n",
       "      <th>3</th>\n",
       "      <td>40</td>\n",
       "      <td>admin.</td>\n",
       "      <td>married</td>\n",
       "      <td>basic.6y</td>\n",
       "      <td>no</td>\n",
       "      <td>no</td>\n",
       "      <td>no</td>\n",
       "      <td>telephone</td>\n",
       "      <td>may</td>\n",
       "      <td>mon</td>\n",
       "      <td>...</td>\n",
       "      <td>1</td>\n",
       "      <td>999</td>\n",
       "      <td>0</td>\n",
       "      <td>nonexistent</td>\n",
       "      <td>1.1</td>\n",
       "      <td>93.994</td>\n",
       "      <td>-36.4</td>\n",
       "      <td>4.857</td>\n",
       "      <td>5191.0</td>\n",
       "      <td>no</td>\n",
       "    </tr>\n",
       "    <tr>\n",
       "      <th>4</th>\n",
       "      <td>56</td>\n",
       "      <td>services</td>\n",
       "      <td>married</td>\n",
       "      <td>high.school</td>\n",
       "      <td>no</td>\n",
       "      <td>no</td>\n",
       "      <td>yes</td>\n",
       "      <td>telephone</td>\n",
       "      <td>may</td>\n",
       "      <td>mon</td>\n",
       "      <td>...</td>\n",
       "      <td>1</td>\n",
       "      <td>999</td>\n",
       "      <td>0</td>\n",
       "      <td>nonexistent</td>\n",
       "      <td>1.1</td>\n",
       "      <td>93.994</td>\n",
       "      <td>-36.4</td>\n",
       "      <td>4.857</td>\n",
       "      <td>5191.0</td>\n",
       "      <td>no</td>\n",
       "    </tr>\n",
       "    <tr>\n",
       "      <th>...</th>\n",
       "      <td>...</td>\n",
       "      <td>...</td>\n",
       "      <td>...</td>\n",
       "      <td>...</td>\n",
       "      <td>...</td>\n",
       "      <td>...</td>\n",
       "      <td>...</td>\n",
       "      <td>...</td>\n",
       "      <td>...</td>\n",
       "      <td>...</td>\n",
       "      <td>...</td>\n",
       "      <td>...</td>\n",
       "      <td>...</td>\n",
       "      <td>...</td>\n",
       "      <td>...</td>\n",
       "      <td>...</td>\n",
       "      <td>...</td>\n",
       "      <td>...</td>\n",
       "      <td>...</td>\n",
       "      <td>...</td>\n",
       "      <td>...</td>\n",
       "    </tr>\n",
       "    <tr>\n",
       "      <th>41183</th>\n",
       "      <td>73</td>\n",
       "      <td>retired</td>\n",
       "      <td>married</td>\n",
       "      <td>professional.course</td>\n",
       "      <td>no</td>\n",
       "      <td>yes</td>\n",
       "      <td>no</td>\n",
       "      <td>cellular</td>\n",
       "      <td>nov</td>\n",
       "      <td>fri</td>\n",
       "      <td>...</td>\n",
       "      <td>1</td>\n",
       "      <td>999</td>\n",
       "      <td>0</td>\n",
       "      <td>nonexistent</td>\n",
       "      <td>-1.1</td>\n",
       "      <td>94.767</td>\n",
       "      <td>-50.8</td>\n",
       "      <td>1.028</td>\n",
       "      <td>4963.6</td>\n",
       "      <td>yes</td>\n",
       "    </tr>\n",
       "    <tr>\n",
       "      <th>41184</th>\n",
       "      <td>46</td>\n",
       "      <td>blue-collar</td>\n",
       "      <td>married</td>\n",
       "      <td>professional.course</td>\n",
       "      <td>no</td>\n",
       "      <td>no</td>\n",
       "      <td>no</td>\n",
       "      <td>cellular</td>\n",
       "      <td>nov</td>\n",
       "      <td>fri</td>\n",
       "      <td>...</td>\n",
       "      <td>1</td>\n",
       "      <td>999</td>\n",
       "      <td>0</td>\n",
       "      <td>nonexistent</td>\n",
       "      <td>-1.1</td>\n",
       "      <td>94.767</td>\n",
       "      <td>-50.8</td>\n",
       "      <td>1.028</td>\n",
       "      <td>4963.6</td>\n",
       "      <td>no</td>\n",
       "    </tr>\n",
       "    <tr>\n",
       "      <th>41185</th>\n",
       "      <td>56</td>\n",
       "      <td>retired</td>\n",
       "      <td>married</td>\n",
       "      <td>university.degree</td>\n",
       "      <td>no</td>\n",
       "      <td>yes</td>\n",
       "      <td>no</td>\n",
       "      <td>cellular</td>\n",
       "      <td>nov</td>\n",
       "      <td>fri</td>\n",
       "      <td>...</td>\n",
       "      <td>2</td>\n",
       "      <td>999</td>\n",
       "      <td>0</td>\n",
       "      <td>nonexistent</td>\n",
       "      <td>-1.1</td>\n",
       "      <td>94.767</td>\n",
       "      <td>-50.8</td>\n",
       "      <td>1.028</td>\n",
       "      <td>4963.6</td>\n",
       "      <td>no</td>\n",
       "    </tr>\n",
       "    <tr>\n",
       "      <th>41186</th>\n",
       "      <td>44</td>\n",
       "      <td>technician</td>\n",
       "      <td>married</td>\n",
       "      <td>professional.course</td>\n",
       "      <td>no</td>\n",
       "      <td>no</td>\n",
       "      <td>no</td>\n",
       "      <td>cellular</td>\n",
       "      <td>nov</td>\n",
       "      <td>fri</td>\n",
       "      <td>...</td>\n",
       "      <td>1</td>\n",
       "      <td>999</td>\n",
       "      <td>0</td>\n",
       "      <td>nonexistent</td>\n",
       "      <td>-1.1</td>\n",
       "      <td>94.767</td>\n",
       "      <td>-50.8</td>\n",
       "      <td>1.028</td>\n",
       "      <td>4963.6</td>\n",
       "      <td>yes</td>\n",
       "    </tr>\n",
       "    <tr>\n",
       "      <th>41187</th>\n",
       "      <td>74</td>\n",
       "      <td>retired</td>\n",
       "      <td>married</td>\n",
       "      <td>professional.course</td>\n",
       "      <td>no</td>\n",
       "      <td>yes</td>\n",
       "      <td>no</td>\n",
       "      <td>cellular</td>\n",
       "      <td>nov</td>\n",
       "      <td>fri</td>\n",
       "      <td>...</td>\n",
       "      <td>3</td>\n",
       "      <td>999</td>\n",
       "      <td>1</td>\n",
       "      <td>failure</td>\n",
       "      <td>-1.1</td>\n",
       "      <td>94.767</td>\n",
       "      <td>-50.8</td>\n",
       "      <td>1.028</td>\n",
       "      <td>4963.6</td>\n",
       "      <td>no</td>\n",
       "    </tr>\n",
       "  </tbody>\n",
       "</table>\n",
       "<p>41188 rows × 21 columns</p>\n",
       "</div>"
      ],
      "text/plain": [
       "       age          job  marital            education  default housing loan  \\\n",
       "0       56    housemaid  married             basic.4y       no      no   no   \n",
       "1       57     services  married          high.school  unknown      no   no   \n",
       "2       37     services  married          high.school       no     yes   no   \n",
       "3       40       admin.  married             basic.6y       no      no   no   \n",
       "4       56     services  married          high.school       no      no  yes   \n",
       "...    ...          ...      ...                  ...      ...     ...  ...   \n",
       "41183   73      retired  married  professional.course       no     yes   no   \n",
       "41184   46  blue-collar  married  professional.course       no      no   no   \n",
       "41185   56      retired  married    university.degree       no     yes   no   \n",
       "41186   44   technician  married  professional.course       no      no   no   \n",
       "41187   74      retired  married  professional.course       no     yes   no   \n",
       "\n",
       "         contact month day_of_week  ...  campaign  pdays  previous  \\\n",
       "0      telephone   may         mon  ...         1    999         0   \n",
       "1      telephone   may         mon  ...         1    999         0   \n",
       "2      telephone   may         mon  ...         1    999         0   \n",
       "3      telephone   may         mon  ...         1    999         0   \n",
       "4      telephone   may         mon  ...         1    999         0   \n",
       "...          ...   ...         ...  ...       ...    ...       ...   \n",
       "41183   cellular   nov         fri  ...         1    999         0   \n",
       "41184   cellular   nov         fri  ...         1    999         0   \n",
       "41185   cellular   nov         fri  ...         2    999         0   \n",
       "41186   cellular   nov         fri  ...         1    999         0   \n",
       "41187   cellular   nov         fri  ...         3    999         1   \n",
       "\n",
       "          poutcome emp.var.rate  cons.price.idx  cons.conf.idx  euribor3m  \\\n",
       "0      nonexistent          1.1          93.994          -36.4      4.857   \n",
       "1      nonexistent          1.1          93.994          -36.4      4.857   \n",
       "2      nonexistent          1.1          93.994          -36.4      4.857   \n",
       "3      nonexistent          1.1          93.994          -36.4      4.857   \n",
       "4      nonexistent          1.1          93.994          -36.4      4.857   \n",
       "...            ...          ...             ...            ...        ...   \n",
       "41183  nonexistent         -1.1          94.767          -50.8      1.028   \n",
       "41184  nonexistent         -1.1          94.767          -50.8      1.028   \n",
       "41185  nonexistent         -1.1          94.767          -50.8      1.028   \n",
       "41186  nonexistent         -1.1          94.767          -50.8      1.028   \n",
       "41187      failure         -1.1          94.767          -50.8      1.028   \n",
       "\n",
       "       nr.employed    y  \n",
       "0           5191.0   no  \n",
       "1           5191.0   no  \n",
       "2           5191.0   no  \n",
       "3           5191.0   no  \n",
       "4           5191.0   no  \n",
       "...            ...  ...  \n",
       "41183       4963.6  yes  \n",
       "41184       4963.6   no  \n",
       "41185       4963.6   no  \n",
       "41186       4963.6  yes  \n",
       "41187       4963.6   no  \n",
       "\n",
       "[41188 rows x 21 columns]"
      ]
     },
     "execution_count": 2,
     "metadata": {},
     "output_type": "execute_result"
    }
   ],
   "source": [
    "df"
   ]
  },
  {
   "cell_type": "markdown",
   "id": "5297f5db",
   "metadata": {},
   "source": [
    "#### Look for Missing values"
   ]
  },
  {
   "cell_type": "code",
   "execution_count": 3,
   "id": "967abbb3",
   "metadata": {},
   "outputs": [
    {
     "data": {
      "text/plain": [
       "age               0\n",
       "job               0\n",
       "marital           0\n",
       "education         0\n",
       "default           0\n",
       "housing           0\n",
       "loan              0\n",
       "contact           0\n",
       "month             0\n",
       "day_of_week       0\n",
       "duration          0\n",
       "campaign          0\n",
       "pdays             0\n",
       "previous          0\n",
       "poutcome          0\n",
       "emp.var.rate      0\n",
       "cons.price.idx    0\n",
       "cons.conf.idx     0\n",
       "euribor3m         0\n",
       "nr.employed       0\n",
       "y                 0\n",
       "dtype: int64"
      ]
     },
     "execution_count": 3,
     "metadata": {},
     "output_type": "execute_result"
    }
   ],
   "source": [
    "df.isna().sum()"
   ]
  },
  {
   "cell_type": "markdown",
   "id": "76ca9c8c",
   "metadata": {},
   "source": [
    "### Handle Missing Values"
   ]
  },
  {
   "cell_type": "markdown",
   "id": "a49dbe91",
   "metadata": {},
   "source": [
    "#### Length of Dataset"
   ]
  },
  {
   "cell_type": "code",
   "execution_count": 4,
   "id": "d9062b4c",
   "metadata": {},
   "outputs": [
    {
     "data": {
      "text/plain": [
       "41188"
      ]
     },
     "execution_count": 4,
     "metadata": {},
     "output_type": "execute_result"
    }
   ],
   "source": [
    "len(df)"
   ]
  },
  {
   "cell_type": "markdown",
   "id": "dc02962f",
   "metadata": {},
   "source": [
    "#### Sum of missing values (coded as unknown) in column"
   ]
  },
  {
   "cell_type": "code",
   "execution_count": 5,
   "id": "a722f5f7",
   "metadata": {},
   "outputs": [
    {
     "data": {
      "text/plain": [
       "0"
      ]
     },
     "execution_count": 5,
     "metadata": {},
     "output_type": "execute_result"
    }
   ],
   "source": [
    "(df.age == 'unknown').sum()"
   ]
  },
  {
   "cell_type": "code",
   "execution_count": 6,
   "id": "1b2c65f4",
   "metadata": {},
   "outputs": [
    {
     "data": {
      "text/plain": [
       "330"
      ]
     },
     "execution_count": 6,
     "metadata": {},
     "output_type": "execute_result"
    }
   ],
   "source": [
    "(df.job == 'unknown').sum()"
   ]
  },
  {
   "cell_type": "code",
   "execution_count": 7,
   "id": "748bdf90",
   "metadata": {},
   "outputs": [
    {
     "data": {
      "text/plain": [
       "0"
      ]
     },
     "execution_count": 7,
     "metadata": {},
     "output_type": "execute_result"
    }
   ],
   "source": [
    "(df.month== 'unknown').sum()"
   ]
  },
  {
   "cell_type": "code",
   "execution_count": 8,
   "id": "0b479eea",
   "metadata": {},
   "outputs": [
    {
     "data": {
      "text/plain": [
       "80"
      ]
     },
     "execution_count": 8,
     "metadata": {},
     "output_type": "execute_result"
    }
   ],
   "source": [
    "(df.marital== 'unknown').sum()"
   ]
  },
  {
   "cell_type": "code",
   "execution_count": 9,
   "id": "ab812c2b",
   "metadata": {},
   "outputs": [
    {
     "data": {
      "text/plain": [
       "1731"
      ]
     },
     "execution_count": 9,
     "metadata": {},
     "output_type": "execute_result"
    }
   ],
   "source": [
    "(df.education== 'unknown').sum()"
   ]
  },
  {
   "cell_type": "code",
   "execution_count": 10,
   "id": "12c612c2",
   "metadata": {},
   "outputs": [
    {
     "data": {
      "text/plain": [
       "990"
      ]
     },
     "execution_count": 10,
     "metadata": {},
     "output_type": "execute_result"
    }
   ],
   "source": [
    "(df.housing== 'unknown').sum()"
   ]
  },
  {
   "cell_type": "markdown",
   "id": "d76e5e4d",
   "metadata": {},
   "source": [
    "Columns that have missing values are the categorical columns. The highest number of missing values is in the education column with 1731. The entire data frame is 41,000 data points. This is 2% of the dataset missing, this is not enough data to delete and we could be getting rid of valuable data other than education. "
   ]
  },
  {
   "cell_type": "markdown",
   "id": "593472ab",
   "metadata": {},
   "source": [
    "## Data Types"
   ]
  },
  {
   "cell_type": "markdown",
   "id": "52867344",
   "metadata": {},
   "source": [
    "For columns that are categorial, they need to be changed to numeric to fit to the machine learning model. Below all columns categorical will be made numeric"
   ]
  },
  {
   "cell_type": "code",
   "execution_count": 11,
   "id": "6e978470",
   "metadata": {},
   "outputs": [],
   "source": [
    "#Target Column\n",
    "# 0 = Yes\n",
    "#1 = No\n",
    "df['Target']= df.y.replace(to_replace=['no', 'yes'], value=[0, 1])"
   ]
  },
  {
   "cell_type": "code",
   "execution_count": 12,
   "id": "c35273a8",
   "metadata": {},
   "outputs": [
    {
     "data": {
      "text/plain": [
       "array(['housemaid', 'services', 'admin.', 'blue-collar', 'technician',\n",
       "       'retired', 'management', 'unemployed', 'self-employed', 'unknown',\n",
       "       'entrepreneur', 'student'], dtype=object)"
      ]
     },
     "execution_count": 12,
     "metadata": {},
     "output_type": "execute_result"
    }
   ],
   "source": [
    "#Job Column\n",
    "df['job'].unique()"
   ]
  },
  {
   "cell_type": "code",
   "execution_count": 13,
   "id": "2c1d8d5c",
   "metadata": {},
   "outputs": [],
   "source": [
    "# 1 = Housemaid\n",
    "#2 = Services\n",
    "#3 = Admin\n",
    "#4 = Blue Collar\n",
    "#5 = Retired\n",
    "#6 = Technician\n",
    "#7 = Management\n",
    "#8 = Unemployed\n",
    "#9 = Self Employed\n",
    "#10 = Unknown\n",
    "#11 = Entreprenuer\n",
    "#12 = Student\n",
    "df['job'] = df.job.replace(to_replace=['housemaid', 'services', 'admin.','blue-collar', 'retired','technician', 'management', 'unemployed', 'self-employed', 'unknown', 'entrepreneur', 'student'],value = [0,1,2,3,4,5,6,7,8, 9,10,11])"
   ]
  },
  {
   "cell_type": "code",
   "execution_count": 14,
   "id": "dc6a4165",
   "metadata": {},
   "outputs": [
    {
     "data": {
      "text/plain": [
       "array(['basic.4y', 'high.school', 'basic.6y', 'basic.9y',\n",
       "       'professional.course', 'unknown', 'university.degree',\n",
       "       'illiterate'], dtype=object)"
      ]
     },
     "execution_count": 14,
     "metadata": {},
     "output_type": "execute_result"
    }
   ],
   "source": [
    "#Education Column\n",
    "df['education'].unique()"
   ]
  },
  {
   "cell_type": "code",
   "execution_count": 15,
   "id": "ca52fce0",
   "metadata": {},
   "outputs": [],
   "source": [
    "#1 = Basic 4 yr\n",
    "#2 = High School\n",
    "#3 = Basic 6 yr\n",
    "#4 = Basic 9 yr\n",
    "#5 = Professional Course\n",
    "#6 = Unknown\n",
    "#7 = University Degree\n",
    "df['education'] = df.education.replace(to_replace= ['basic.4y', 'high.school', 'basic.6y', 'basic.9y',\n",
    "       'professional.course', 'unknown', 'university.degree',\n",
    "       'illiterate'], value = [1,2,3,4,5,6,7,8])"
   ]
  },
  {
   "cell_type": "code",
   "execution_count": 16,
   "id": "657e328d",
   "metadata": {},
   "outputs": [
    {
     "data": {
      "text/plain": [
       "array(['telephone', 'cellular'], dtype=object)"
      ]
     },
     "execution_count": 16,
     "metadata": {},
     "output_type": "execute_result"
    }
   ],
   "source": [
    "#Contact Column\n",
    "df['contact'].unique()"
   ]
  },
  {
   "cell_type": "code",
   "execution_count": 17,
   "id": "13264b7d",
   "metadata": {},
   "outputs": [],
   "source": [
    "#1 = Telephone\n",
    "#2 = Cellular\n",
    "df['contact'] = df.contact.replace(to_replace= ['telephone', 'cellular'], value = [1,2])"
   ]
  },
  {
   "cell_type": "code",
   "execution_count": 18,
   "id": "9e061a3d",
   "metadata": {},
   "outputs": [
    {
     "data": {
      "text/plain": [
       "array(['married', 'single', 'divorced', 'unknown'], dtype=object)"
      ]
     },
     "execution_count": 18,
     "metadata": {},
     "output_type": "execute_result"
    }
   ],
   "source": [
    "#Marital Column \n",
    "df['marital'].unique()"
   ]
  },
  {
   "cell_type": "code",
   "execution_count": 19,
   "id": "682b9597",
   "metadata": {},
   "outputs": [],
   "source": [
    "#1 = Married\n",
    "#2 = Single\n",
    "#3 = Divorced\n",
    "#4 = Unknown\n",
    "df['marital'] = df.marital.replace(to_replace= ['married', 'single', 'divorced', 'unknown'], value = [1,2,3,4])"
   ]
  },
  {
   "cell_type": "code",
   "execution_count": 20,
   "id": "6b2a5de0",
   "metadata": {},
   "outputs": [
    {
     "data": {
      "text/plain": [
       "array(['no', 'unknown', 'yes'], dtype=object)"
      ]
     },
     "execution_count": 20,
     "metadata": {},
     "output_type": "execute_result"
    }
   ],
   "source": [
    "#Default Column\n",
    "df['default'].unique()"
   ]
  },
  {
   "cell_type": "code",
   "execution_count": 21,
   "id": "905abe1c",
   "metadata": {},
   "outputs": [],
   "source": [
    "#1 = No\n",
    "#2 = Unknown\n",
    "#3 = Yes\n",
    "df['default'] = df.default.replace(to_replace= ['no', 'unknown', 'yes'], value = [1,2,3])"
   ]
  },
  {
   "cell_type": "code",
   "execution_count": 22,
   "id": "b1e2eb9e",
   "metadata": {},
   "outputs": [
    {
     "data": {
      "text/plain": [
       "array(['no', 'yes', 'unknown'], dtype=object)"
      ]
     },
     "execution_count": 22,
     "metadata": {},
     "output_type": "execute_result"
    }
   ],
   "source": [
    "#Housing Column\n",
    "df['housing'].unique()"
   ]
  },
  {
   "cell_type": "code",
   "execution_count": 23,
   "id": "52e2e627",
   "metadata": {},
   "outputs": [],
   "source": [
    "#1 = No\n",
    "#2 = Yes\n",
    "#3 = Unknown\n",
    "df['housing'] = df.housing.replace(to_replace= ['no', 'yes', 'unknown'], value = [1,2,3])"
   ]
  },
  {
   "cell_type": "code",
   "execution_count": 24,
   "id": "5277fe9e",
   "metadata": {},
   "outputs": [
    {
     "data": {
      "text/plain": [
       "array([1, 2, 3])"
      ]
     },
     "execution_count": 24,
     "metadata": {},
     "output_type": "execute_result"
    }
   ],
   "source": [
    "#Default Column\n",
    "df['default'].unique()"
   ]
  },
  {
   "cell_type": "code",
   "execution_count": 25,
   "id": "ed4eaca5",
   "metadata": {},
   "outputs": [],
   "source": [
    "#1 = No\n",
    "#2 = Unknown\n",
    "#3 = yes\n",
    "df['default'] = df.default.replace(to_replace= ['no', 'unknown', 'yes'], value = [1,2,3])"
   ]
  },
  {
   "cell_type": "code",
   "execution_count": 26,
   "id": "5609315b",
   "metadata": {},
   "outputs": [
    {
     "data": {
      "text/plain": [
       "array(['no', 'yes', 'unknown'], dtype=object)"
      ]
     },
     "execution_count": 26,
     "metadata": {},
     "output_type": "execute_result"
    }
   ],
   "source": [
    "#Loan Column\n",
    "df['loan'].unique()"
   ]
  },
  {
   "cell_type": "code",
   "execution_count": 27,
   "id": "69799f3f",
   "metadata": {},
   "outputs": [],
   "source": [
    "#1 = No\n",
    "#2 = Yes\n",
    "#3 = Unknown\n",
    "df['loan'] = df.loan.replace(to_replace= ['no', 'yes', 'unknown'], value = [1,2,3])"
   ]
  },
  {
   "cell_type": "code",
   "execution_count": 28,
   "id": "eb1ab22b",
   "metadata": {},
   "outputs": [
    {
     "data": {
      "text/plain": [
       "array(['may', 'jun', 'jul', 'aug', 'oct', 'nov', 'dec', 'mar', 'apr',\n",
       "       'sep'], dtype=object)"
      ]
     },
     "execution_count": 28,
     "metadata": {},
     "output_type": "execute_result"
    }
   ],
   "source": [
    "#Month Column\n",
    "df['month'].unique()"
   ]
  },
  {
   "cell_type": "code",
   "execution_count": 29,
   "id": "9481e12b",
   "metadata": {},
   "outputs": [],
   "source": [
    "#1 = May\n",
    "#2 = Jun\n",
    "#3 = July\n",
    "#4 = August\n",
    "#5 = October\n",
    "#6 = November\n",
    "#7 = December \n",
    "#8 = March \n",
    "#9 = April \n",
    "#10 = September \n",
    "df['month'] = df.month.replace(to_replace= ['may', 'jun', 'jul', 'aug', 'oct', 'nov', 'dec', 'mar', 'apr',\n",
    "       'sep'], value = [1,2,3,4,5,6,7,8,9,10])"
   ]
  },
  {
   "cell_type": "code",
   "execution_count": 30,
   "id": "c4184d50",
   "metadata": {},
   "outputs": [
    {
     "data": {
      "text/plain": [
       "array(['mon', 'tue', 'wed', 'thu', 'fri'], dtype=object)"
      ]
     },
     "execution_count": 30,
     "metadata": {},
     "output_type": "execute_result"
    }
   ],
   "source": [
    "#Day of Week Column\n",
    "df['day_of_week'].unique()"
   ]
  },
  {
   "cell_type": "code",
   "execution_count": 31,
   "id": "b04ce280",
   "metadata": {},
   "outputs": [],
   "source": [
    "#1 = Monday\n",
    "#2 = Tuesday\n",
    "#3 = Wednesday\n",
    "#4 = Thursday \n",
    "#5 = Friday\n",
    "df['day_of_week'] = df.day_of_week.replace(to_replace= ['mon', 'tue', 'wed', 'thu', 'fri'], value = [1,2,3,4,5])"
   ]
  },
  {
   "cell_type": "code",
   "execution_count": 32,
   "id": "760b9196",
   "metadata": {},
   "outputs": [
    {
     "data": {
      "text/plain": [
       "array(['nonexistent', 'failure', 'success'], dtype=object)"
      ]
     },
     "execution_count": 32,
     "metadata": {},
     "output_type": "execute_result"
    }
   ],
   "source": [
    "df['poutcome'].unique()"
   ]
  },
  {
   "cell_type": "code",
   "execution_count": 33,
   "id": "643f1aef",
   "metadata": {},
   "outputs": [],
   "source": [
    "df['poutcome'] = df.poutcome.replace(to_replace= ['nonexistent', 'failure', 'success'], value = [1,2,3])"
   ]
  },
  {
   "cell_type": "code",
   "execution_count": 34,
   "id": "e1d88577",
   "metadata": {},
   "outputs": [
    {
     "data": {
      "text/html": [
       "<div>\n",
       "<style scoped>\n",
       "    .dataframe tbody tr th:only-of-type {\n",
       "        vertical-align: middle;\n",
       "    }\n",
       "\n",
       "    .dataframe tbody tr th {\n",
       "        vertical-align: top;\n",
       "    }\n",
       "\n",
       "    .dataframe thead th {\n",
       "        text-align: right;\n",
       "    }\n",
       "</style>\n",
       "<table border=\"1\" class=\"dataframe\">\n",
       "  <thead>\n",
       "    <tr style=\"text-align: right;\">\n",
       "      <th></th>\n",
       "      <th>age</th>\n",
       "      <th>job</th>\n",
       "      <th>marital</th>\n",
       "      <th>education</th>\n",
       "      <th>default</th>\n",
       "      <th>housing</th>\n",
       "      <th>loan</th>\n",
       "      <th>contact</th>\n",
       "      <th>month</th>\n",
       "      <th>day_of_week</th>\n",
       "      <th>...</th>\n",
       "      <th>pdays</th>\n",
       "      <th>previous</th>\n",
       "      <th>poutcome</th>\n",
       "      <th>emp.var.rate</th>\n",
       "      <th>cons.price.idx</th>\n",
       "      <th>cons.conf.idx</th>\n",
       "      <th>euribor3m</th>\n",
       "      <th>nr.employed</th>\n",
       "      <th>y</th>\n",
       "      <th>Target</th>\n",
       "    </tr>\n",
       "  </thead>\n",
       "  <tbody>\n",
       "    <tr>\n",
       "      <th>0</th>\n",
       "      <td>56</td>\n",
       "      <td>0</td>\n",
       "      <td>1</td>\n",
       "      <td>1</td>\n",
       "      <td>1</td>\n",
       "      <td>1</td>\n",
       "      <td>1</td>\n",
       "      <td>1</td>\n",
       "      <td>1</td>\n",
       "      <td>1</td>\n",
       "      <td>...</td>\n",
       "      <td>999</td>\n",
       "      <td>0</td>\n",
       "      <td>1</td>\n",
       "      <td>1.1</td>\n",
       "      <td>93.994</td>\n",
       "      <td>-36.4</td>\n",
       "      <td>4.857</td>\n",
       "      <td>5191.0</td>\n",
       "      <td>no</td>\n",
       "      <td>0</td>\n",
       "    </tr>\n",
       "    <tr>\n",
       "      <th>1</th>\n",
       "      <td>57</td>\n",
       "      <td>1</td>\n",
       "      <td>1</td>\n",
       "      <td>2</td>\n",
       "      <td>2</td>\n",
       "      <td>1</td>\n",
       "      <td>1</td>\n",
       "      <td>1</td>\n",
       "      <td>1</td>\n",
       "      <td>1</td>\n",
       "      <td>...</td>\n",
       "      <td>999</td>\n",
       "      <td>0</td>\n",
       "      <td>1</td>\n",
       "      <td>1.1</td>\n",
       "      <td>93.994</td>\n",
       "      <td>-36.4</td>\n",
       "      <td>4.857</td>\n",
       "      <td>5191.0</td>\n",
       "      <td>no</td>\n",
       "      <td>0</td>\n",
       "    </tr>\n",
       "    <tr>\n",
       "      <th>2</th>\n",
       "      <td>37</td>\n",
       "      <td>1</td>\n",
       "      <td>1</td>\n",
       "      <td>2</td>\n",
       "      <td>1</td>\n",
       "      <td>2</td>\n",
       "      <td>1</td>\n",
       "      <td>1</td>\n",
       "      <td>1</td>\n",
       "      <td>1</td>\n",
       "      <td>...</td>\n",
       "      <td>999</td>\n",
       "      <td>0</td>\n",
       "      <td>1</td>\n",
       "      <td>1.1</td>\n",
       "      <td>93.994</td>\n",
       "      <td>-36.4</td>\n",
       "      <td>4.857</td>\n",
       "      <td>5191.0</td>\n",
       "      <td>no</td>\n",
       "      <td>0</td>\n",
       "    </tr>\n",
       "    <tr>\n",
       "      <th>3</th>\n",
       "      <td>40</td>\n",
       "      <td>2</td>\n",
       "      <td>1</td>\n",
       "      <td>3</td>\n",
       "      <td>1</td>\n",
       "      <td>1</td>\n",
       "      <td>1</td>\n",
       "      <td>1</td>\n",
       "      <td>1</td>\n",
       "      <td>1</td>\n",
       "      <td>...</td>\n",
       "      <td>999</td>\n",
       "      <td>0</td>\n",
       "      <td>1</td>\n",
       "      <td>1.1</td>\n",
       "      <td>93.994</td>\n",
       "      <td>-36.4</td>\n",
       "      <td>4.857</td>\n",
       "      <td>5191.0</td>\n",
       "      <td>no</td>\n",
       "      <td>0</td>\n",
       "    </tr>\n",
       "    <tr>\n",
       "      <th>4</th>\n",
       "      <td>56</td>\n",
       "      <td>1</td>\n",
       "      <td>1</td>\n",
       "      <td>2</td>\n",
       "      <td>1</td>\n",
       "      <td>1</td>\n",
       "      <td>2</td>\n",
       "      <td>1</td>\n",
       "      <td>1</td>\n",
       "      <td>1</td>\n",
       "      <td>...</td>\n",
       "      <td>999</td>\n",
       "      <td>0</td>\n",
       "      <td>1</td>\n",
       "      <td>1.1</td>\n",
       "      <td>93.994</td>\n",
       "      <td>-36.4</td>\n",
       "      <td>4.857</td>\n",
       "      <td>5191.0</td>\n",
       "      <td>no</td>\n",
       "      <td>0</td>\n",
       "    </tr>\n",
       "    <tr>\n",
       "      <th>...</th>\n",
       "      <td>...</td>\n",
       "      <td>...</td>\n",
       "      <td>...</td>\n",
       "      <td>...</td>\n",
       "      <td>...</td>\n",
       "      <td>...</td>\n",
       "      <td>...</td>\n",
       "      <td>...</td>\n",
       "      <td>...</td>\n",
       "      <td>...</td>\n",
       "      <td>...</td>\n",
       "      <td>...</td>\n",
       "      <td>...</td>\n",
       "      <td>...</td>\n",
       "      <td>...</td>\n",
       "      <td>...</td>\n",
       "      <td>...</td>\n",
       "      <td>...</td>\n",
       "      <td>...</td>\n",
       "      <td>...</td>\n",
       "      <td>...</td>\n",
       "    </tr>\n",
       "    <tr>\n",
       "      <th>41183</th>\n",
       "      <td>73</td>\n",
       "      <td>4</td>\n",
       "      <td>1</td>\n",
       "      <td>5</td>\n",
       "      <td>1</td>\n",
       "      <td>2</td>\n",
       "      <td>1</td>\n",
       "      <td>2</td>\n",
       "      <td>6</td>\n",
       "      <td>5</td>\n",
       "      <td>...</td>\n",
       "      <td>999</td>\n",
       "      <td>0</td>\n",
       "      <td>1</td>\n",
       "      <td>-1.1</td>\n",
       "      <td>94.767</td>\n",
       "      <td>-50.8</td>\n",
       "      <td>1.028</td>\n",
       "      <td>4963.6</td>\n",
       "      <td>yes</td>\n",
       "      <td>1</td>\n",
       "    </tr>\n",
       "    <tr>\n",
       "      <th>41184</th>\n",
       "      <td>46</td>\n",
       "      <td>3</td>\n",
       "      <td>1</td>\n",
       "      <td>5</td>\n",
       "      <td>1</td>\n",
       "      <td>1</td>\n",
       "      <td>1</td>\n",
       "      <td>2</td>\n",
       "      <td>6</td>\n",
       "      <td>5</td>\n",
       "      <td>...</td>\n",
       "      <td>999</td>\n",
       "      <td>0</td>\n",
       "      <td>1</td>\n",
       "      <td>-1.1</td>\n",
       "      <td>94.767</td>\n",
       "      <td>-50.8</td>\n",
       "      <td>1.028</td>\n",
       "      <td>4963.6</td>\n",
       "      <td>no</td>\n",
       "      <td>0</td>\n",
       "    </tr>\n",
       "    <tr>\n",
       "      <th>41185</th>\n",
       "      <td>56</td>\n",
       "      <td>4</td>\n",
       "      <td>1</td>\n",
       "      <td>7</td>\n",
       "      <td>1</td>\n",
       "      <td>2</td>\n",
       "      <td>1</td>\n",
       "      <td>2</td>\n",
       "      <td>6</td>\n",
       "      <td>5</td>\n",
       "      <td>...</td>\n",
       "      <td>999</td>\n",
       "      <td>0</td>\n",
       "      <td>1</td>\n",
       "      <td>-1.1</td>\n",
       "      <td>94.767</td>\n",
       "      <td>-50.8</td>\n",
       "      <td>1.028</td>\n",
       "      <td>4963.6</td>\n",
       "      <td>no</td>\n",
       "      <td>0</td>\n",
       "    </tr>\n",
       "    <tr>\n",
       "      <th>41186</th>\n",
       "      <td>44</td>\n",
       "      <td>5</td>\n",
       "      <td>1</td>\n",
       "      <td>5</td>\n",
       "      <td>1</td>\n",
       "      <td>1</td>\n",
       "      <td>1</td>\n",
       "      <td>2</td>\n",
       "      <td>6</td>\n",
       "      <td>5</td>\n",
       "      <td>...</td>\n",
       "      <td>999</td>\n",
       "      <td>0</td>\n",
       "      <td>1</td>\n",
       "      <td>-1.1</td>\n",
       "      <td>94.767</td>\n",
       "      <td>-50.8</td>\n",
       "      <td>1.028</td>\n",
       "      <td>4963.6</td>\n",
       "      <td>yes</td>\n",
       "      <td>1</td>\n",
       "    </tr>\n",
       "    <tr>\n",
       "      <th>41187</th>\n",
       "      <td>74</td>\n",
       "      <td>4</td>\n",
       "      <td>1</td>\n",
       "      <td>5</td>\n",
       "      <td>1</td>\n",
       "      <td>2</td>\n",
       "      <td>1</td>\n",
       "      <td>2</td>\n",
       "      <td>6</td>\n",
       "      <td>5</td>\n",
       "      <td>...</td>\n",
       "      <td>999</td>\n",
       "      <td>1</td>\n",
       "      <td>2</td>\n",
       "      <td>-1.1</td>\n",
       "      <td>94.767</td>\n",
       "      <td>-50.8</td>\n",
       "      <td>1.028</td>\n",
       "      <td>4963.6</td>\n",
       "      <td>no</td>\n",
       "      <td>0</td>\n",
       "    </tr>\n",
       "  </tbody>\n",
       "</table>\n",
       "<p>41188 rows × 22 columns</p>\n",
       "</div>"
      ],
      "text/plain": [
       "       age  job  marital  education  default  housing  loan  contact  month  \\\n",
       "0       56    0        1          1        1        1     1        1      1   \n",
       "1       57    1        1          2        2        1     1        1      1   \n",
       "2       37    1        1          2        1        2     1        1      1   \n",
       "3       40    2        1          3        1        1     1        1      1   \n",
       "4       56    1        1          2        1        1     2        1      1   \n",
       "...    ...  ...      ...        ...      ...      ...   ...      ...    ...   \n",
       "41183   73    4        1          5        1        2     1        2      6   \n",
       "41184   46    3        1          5        1        1     1        2      6   \n",
       "41185   56    4        1          7        1        2     1        2      6   \n",
       "41186   44    5        1          5        1        1     1        2      6   \n",
       "41187   74    4        1          5        1        2     1        2      6   \n",
       "\n",
       "       day_of_week  ...  pdays  previous  poutcome  emp.var.rate  \\\n",
       "0                1  ...    999         0         1           1.1   \n",
       "1                1  ...    999         0         1           1.1   \n",
       "2                1  ...    999         0         1           1.1   \n",
       "3                1  ...    999         0         1           1.1   \n",
       "4                1  ...    999         0         1           1.1   \n",
       "...            ...  ...    ...       ...       ...           ...   \n",
       "41183            5  ...    999         0         1          -1.1   \n",
       "41184            5  ...    999         0         1          -1.1   \n",
       "41185            5  ...    999         0         1          -1.1   \n",
       "41186            5  ...    999         0         1          -1.1   \n",
       "41187            5  ...    999         1         2          -1.1   \n",
       "\n",
       "       cons.price.idx  cons.conf.idx  euribor3m  nr.employed    y  Target  \n",
       "0              93.994          -36.4      4.857       5191.0   no       0  \n",
       "1              93.994          -36.4      4.857       5191.0   no       0  \n",
       "2              93.994          -36.4      4.857       5191.0   no       0  \n",
       "3              93.994          -36.4      4.857       5191.0   no       0  \n",
       "4              93.994          -36.4      4.857       5191.0   no       0  \n",
       "...               ...            ...        ...          ...  ...     ...  \n",
       "41183          94.767          -50.8      1.028       4963.6  yes       1  \n",
       "41184          94.767          -50.8      1.028       4963.6   no       0  \n",
       "41185          94.767          -50.8      1.028       4963.6   no       0  \n",
       "41186          94.767          -50.8      1.028       4963.6  yes       1  \n",
       "41187          94.767          -50.8      1.028       4963.6   no       0  \n",
       "\n",
       "[41188 rows x 22 columns]"
      ]
     },
     "execution_count": 34,
     "metadata": {},
     "output_type": "execute_result"
    }
   ],
   "source": [
    "df"
   ]
  },
  {
   "cell_type": "markdown",
   "id": "bc8de8d5",
   "metadata": {},
   "source": [
    "## EDA"
   ]
  },
  {
   "cell_type": "code",
   "execution_count": 35,
   "id": "ccf49dd3",
   "metadata": {},
   "outputs": [
    {
     "data": {
      "text/html": [
       "<div>\n",
       "<style scoped>\n",
       "    .dataframe tbody tr th:only-of-type {\n",
       "        vertical-align: middle;\n",
       "    }\n",
       "\n",
       "    .dataframe tbody tr th {\n",
       "        vertical-align: top;\n",
       "    }\n",
       "\n",
       "    .dataframe thead th {\n",
       "        text-align: right;\n",
       "    }\n",
       "</style>\n",
       "<table border=\"1\" class=\"dataframe\">\n",
       "  <thead>\n",
       "    <tr style=\"text-align: right;\">\n",
       "      <th></th>\n",
       "      <th>age</th>\n",
       "      <th>job</th>\n",
       "      <th>marital</th>\n",
       "      <th>education</th>\n",
       "      <th>default</th>\n",
       "      <th>housing</th>\n",
       "      <th>loan</th>\n",
       "      <th>contact</th>\n",
       "      <th>month</th>\n",
       "      <th>day_of_week</th>\n",
       "      <th>...</th>\n",
       "      <th>campaign</th>\n",
       "      <th>pdays</th>\n",
       "      <th>previous</th>\n",
       "      <th>poutcome</th>\n",
       "      <th>emp.var.rate</th>\n",
       "      <th>cons.price.idx</th>\n",
       "      <th>cons.conf.idx</th>\n",
       "      <th>euribor3m</th>\n",
       "      <th>nr.employed</th>\n",
       "      <th>Target</th>\n",
       "    </tr>\n",
       "  </thead>\n",
       "  <tbody>\n",
       "    <tr>\n",
       "      <th>count</th>\n",
       "      <td>41188.00000</td>\n",
       "      <td>41188.000000</td>\n",
       "      <td>41188.000000</td>\n",
       "      <td>41188.000000</td>\n",
       "      <td>41188.000000</td>\n",
       "      <td>41188.000000</td>\n",
       "      <td>41188.000000</td>\n",
       "      <td>41188.000000</td>\n",
       "      <td>41188.000000</td>\n",
       "      <td>41188.000000</td>\n",
       "      <td>...</td>\n",
       "      <td>41188.000000</td>\n",
       "      <td>41188.000000</td>\n",
       "      <td>41188.000000</td>\n",
       "      <td>41188.000000</td>\n",
       "      <td>41188.000000</td>\n",
       "      <td>41188.000000</td>\n",
       "      <td>41188.000000</td>\n",
       "      <td>41188.000000</td>\n",
       "      <td>41188.000000</td>\n",
       "      <td>41188.000000</td>\n",
       "    </tr>\n",
       "    <tr>\n",
       "      <th>mean</th>\n",
       "      <td>40.02406</td>\n",
       "      <td>3.795644</td>\n",
       "      <td>1.510634</td>\n",
       "      <td>4.277532</td>\n",
       "      <td>1.208872</td>\n",
       "      <td>1.571914</td>\n",
       "      <td>1.199767</td>\n",
       "      <td>1.634748</td>\n",
       "      <td>3.250097</td>\n",
       "      <td>2.979581</td>\n",
       "      <td>...</td>\n",
       "      <td>2.567593</td>\n",
       "      <td>962.475454</td>\n",
       "      <td>0.172963</td>\n",
       "      <td>1.169904</td>\n",
       "      <td>0.081886</td>\n",
       "      <td>93.575664</td>\n",
       "      <td>-40.502600</td>\n",
       "      <td>3.621291</td>\n",
       "      <td>5167.035911</td>\n",
       "      <td>0.112654</td>\n",
       "    </tr>\n",
       "    <tr>\n",
       "      <th>std</th>\n",
       "      <td>10.42125</td>\n",
       "      <td>2.491859</td>\n",
       "      <td>0.696779</td>\n",
       "      <td>2.185525</td>\n",
       "      <td>0.406686</td>\n",
       "      <td>0.541209</td>\n",
       "      <td>0.456002</td>\n",
       "      <td>0.481507</td>\n",
       "      <td>2.429079</td>\n",
       "      <td>1.411514</td>\n",
       "      <td>...</td>\n",
       "      <td>2.770014</td>\n",
       "      <td>186.910907</td>\n",
       "      <td>0.494901</td>\n",
       "      <td>0.455754</td>\n",
       "      <td>1.570960</td>\n",
       "      <td>0.578840</td>\n",
       "      <td>4.628198</td>\n",
       "      <td>1.734447</td>\n",
       "      <td>72.251528</td>\n",
       "      <td>0.316173</td>\n",
       "    </tr>\n",
       "    <tr>\n",
       "      <th>min</th>\n",
       "      <td>17.00000</td>\n",
       "      <td>0.000000</td>\n",
       "      <td>1.000000</td>\n",
       "      <td>1.000000</td>\n",
       "      <td>1.000000</td>\n",
       "      <td>1.000000</td>\n",
       "      <td>1.000000</td>\n",
       "      <td>1.000000</td>\n",
       "      <td>1.000000</td>\n",
       "      <td>1.000000</td>\n",
       "      <td>...</td>\n",
       "      <td>1.000000</td>\n",
       "      <td>0.000000</td>\n",
       "      <td>0.000000</td>\n",
       "      <td>1.000000</td>\n",
       "      <td>-3.400000</td>\n",
       "      <td>92.201000</td>\n",
       "      <td>-50.800000</td>\n",
       "      <td>0.634000</td>\n",
       "      <td>4963.600000</td>\n",
       "      <td>0.000000</td>\n",
       "    </tr>\n",
       "    <tr>\n",
       "      <th>25%</th>\n",
       "      <td>32.00000</td>\n",
       "      <td>2.000000</td>\n",
       "      <td>1.000000</td>\n",
       "      <td>2.000000</td>\n",
       "      <td>1.000000</td>\n",
       "      <td>1.000000</td>\n",
       "      <td>1.000000</td>\n",
       "      <td>1.000000</td>\n",
       "      <td>1.000000</td>\n",
       "      <td>2.000000</td>\n",
       "      <td>...</td>\n",
       "      <td>1.000000</td>\n",
       "      <td>999.000000</td>\n",
       "      <td>0.000000</td>\n",
       "      <td>1.000000</td>\n",
       "      <td>-1.800000</td>\n",
       "      <td>93.075000</td>\n",
       "      <td>-42.700000</td>\n",
       "      <td>1.344000</td>\n",
       "      <td>5099.100000</td>\n",
       "      <td>0.000000</td>\n",
       "    </tr>\n",
       "    <tr>\n",
       "      <th>50%</th>\n",
       "      <td>38.00000</td>\n",
       "      <td>3.000000</td>\n",
       "      <td>1.000000</td>\n",
       "      <td>4.000000</td>\n",
       "      <td>1.000000</td>\n",
       "      <td>2.000000</td>\n",
       "      <td>1.000000</td>\n",
       "      <td>2.000000</td>\n",
       "      <td>3.000000</td>\n",
       "      <td>3.000000</td>\n",
       "      <td>...</td>\n",
       "      <td>2.000000</td>\n",
       "      <td>999.000000</td>\n",
       "      <td>0.000000</td>\n",
       "      <td>1.000000</td>\n",
       "      <td>1.100000</td>\n",
       "      <td>93.749000</td>\n",
       "      <td>-41.800000</td>\n",
       "      <td>4.857000</td>\n",
       "      <td>5191.000000</td>\n",
       "      <td>0.000000</td>\n",
       "    </tr>\n",
       "    <tr>\n",
       "      <th>75%</th>\n",
       "      <td>47.00000</td>\n",
       "      <td>5.000000</td>\n",
       "      <td>2.000000</td>\n",
       "      <td>7.000000</td>\n",
       "      <td>1.000000</td>\n",
       "      <td>2.000000</td>\n",
       "      <td>1.000000</td>\n",
       "      <td>2.000000</td>\n",
       "      <td>4.000000</td>\n",
       "      <td>4.000000</td>\n",
       "      <td>...</td>\n",
       "      <td>3.000000</td>\n",
       "      <td>999.000000</td>\n",
       "      <td>0.000000</td>\n",
       "      <td>1.000000</td>\n",
       "      <td>1.400000</td>\n",
       "      <td>93.994000</td>\n",
       "      <td>-36.400000</td>\n",
       "      <td>4.961000</td>\n",
       "      <td>5228.100000</td>\n",
       "      <td>0.000000</td>\n",
       "    </tr>\n",
       "    <tr>\n",
       "      <th>max</th>\n",
       "      <td>98.00000</td>\n",
       "      <td>11.000000</td>\n",
       "      <td>4.000000</td>\n",
       "      <td>8.000000</td>\n",
       "      <td>3.000000</td>\n",
       "      <td>3.000000</td>\n",
       "      <td>3.000000</td>\n",
       "      <td>2.000000</td>\n",
       "      <td>10.000000</td>\n",
       "      <td>5.000000</td>\n",
       "      <td>...</td>\n",
       "      <td>56.000000</td>\n",
       "      <td>999.000000</td>\n",
       "      <td>7.000000</td>\n",
       "      <td>3.000000</td>\n",
       "      <td>1.400000</td>\n",
       "      <td>94.767000</td>\n",
       "      <td>-26.900000</td>\n",
       "      <td>5.045000</td>\n",
       "      <td>5228.100000</td>\n",
       "      <td>1.000000</td>\n",
       "    </tr>\n",
       "  </tbody>\n",
       "</table>\n",
       "<p>8 rows × 21 columns</p>\n",
       "</div>"
      ],
      "text/plain": [
       "               age           job       marital     education       default  \\\n",
       "count  41188.00000  41188.000000  41188.000000  41188.000000  41188.000000   \n",
       "mean      40.02406      3.795644      1.510634      4.277532      1.208872   \n",
       "std       10.42125      2.491859      0.696779      2.185525      0.406686   \n",
       "min       17.00000      0.000000      1.000000      1.000000      1.000000   \n",
       "25%       32.00000      2.000000      1.000000      2.000000      1.000000   \n",
       "50%       38.00000      3.000000      1.000000      4.000000      1.000000   \n",
       "75%       47.00000      5.000000      2.000000      7.000000      1.000000   \n",
       "max       98.00000     11.000000      4.000000      8.000000      3.000000   \n",
       "\n",
       "            housing          loan       contact         month   day_of_week  \\\n",
       "count  41188.000000  41188.000000  41188.000000  41188.000000  41188.000000   \n",
       "mean       1.571914      1.199767      1.634748      3.250097      2.979581   \n",
       "std        0.541209      0.456002      0.481507      2.429079      1.411514   \n",
       "min        1.000000      1.000000      1.000000      1.000000      1.000000   \n",
       "25%        1.000000      1.000000      1.000000      1.000000      2.000000   \n",
       "50%        2.000000      1.000000      2.000000      3.000000      3.000000   \n",
       "75%        2.000000      1.000000      2.000000      4.000000      4.000000   \n",
       "max        3.000000      3.000000      2.000000     10.000000      5.000000   \n",
       "\n",
       "       ...      campaign         pdays      previous      poutcome  \\\n",
       "count  ...  41188.000000  41188.000000  41188.000000  41188.000000   \n",
       "mean   ...      2.567593    962.475454      0.172963      1.169904   \n",
       "std    ...      2.770014    186.910907      0.494901      0.455754   \n",
       "min    ...      1.000000      0.000000      0.000000      1.000000   \n",
       "25%    ...      1.000000    999.000000      0.000000      1.000000   \n",
       "50%    ...      2.000000    999.000000      0.000000      1.000000   \n",
       "75%    ...      3.000000    999.000000      0.000000      1.000000   \n",
       "max    ...     56.000000    999.000000      7.000000      3.000000   \n",
       "\n",
       "       emp.var.rate  cons.price.idx  cons.conf.idx     euribor3m  \\\n",
       "count  41188.000000    41188.000000   41188.000000  41188.000000   \n",
       "mean       0.081886       93.575664     -40.502600      3.621291   \n",
       "std        1.570960        0.578840       4.628198      1.734447   \n",
       "min       -3.400000       92.201000     -50.800000      0.634000   \n",
       "25%       -1.800000       93.075000     -42.700000      1.344000   \n",
       "50%        1.100000       93.749000     -41.800000      4.857000   \n",
       "75%        1.400000       93.994000     -36.400000      4.961000   \n",
       "max        1.400000       94.767000     -26.900000      5.045000   \n",
       "\n",
       "        nr.employed        Target  \n",
       "count  41188.000000  41188.000000  \n",
       "mean    5167.035911      0.112654  \n",
       "std       72.251528      0.316173  \n",
       "min     4963.600000      0.000000  \n",
       "25%     5099.100000      0.000000  \n",
       "50%     5191.000000      0.000000  \n",
       "75%     5228.100000      0.000000  \n",
       "max     5228.100000      1.000000  \n",
       "\n",
       "[8 rows x 21 columns]"
      ]
     },
     "execution_count": 35,
     "metadata": {},
     "output_type": "execute_result"
    }
   ],
   "source": [
    "df.describe()"
   ]
  },
  {
   "cell_type": "code",
   "execution_count": 36,
   "id": "2cd80287",
   "metadata": {},
   "outputs": [
    {
     "name": "stdout",
     "output_type": "stream",
     "text": [
      "<class 'pandas.core.frame.DataFrame'>\n",
      "RangeIndex: 41188 entries, 0 to 41187\n",
      "Data columns (total 22 columns):\n",
      " #   Column          Non-Null Count  Dtype  \n",
      "---  ------          --------------  -----  \n",
      " 0   age             41188 non-null  int64  \n",
      " 1   job             41188 non-null  int64  \n",
      " 2   marital         41188 non-null  int64  \n",
      " 3   education       41188 non-null  int64  \n",
      " 4   default         41188 non-null  int64  \n",
      " 5   housing         41188 non-null  int64  \n",
      " 6   loan            41188 non-null  int64  \n",
      " 7   contact         41188 non-null  int64  \n",
      " 8   month           41188 non-null  int64  \n",
      " 9   day_of_week     41188 non-null  int64  \n",
      " 10  duration        41188 non-null  int64  \n",
      " 11  campaign        41188 non-null  int64  \n",
      " 12  pdays           41188 non-null  int64  \n",
      " 13  previous        41188 non-null  int64  \n",
      " 14  poutcome        41188 non-null  int64  \n",
      " 15  emp.var.rate    41188 non-null  float64\n",
      " 16  cons.price.idx  41188 non-null  float64\n",
      " 17  cons.conf.idx   41188 non-null  float64\n",
      " 18  euribor3m       41188 non-null  float64\n",
      " 19  nr.employed     41188 non-null  float64\n",
      " 20  y               41188 non-null  object \n",
      " 21  Target          41188 non-null  int64  \n",
      "dtypes: float64(5), int64(16), object(1)\n",
      "memory usage: 6.9+ MB\n"
     ]
    }
   ],
   "source": [
    "df.info()"
   ]
  },
  {
   "cell_type": "markdown",
   "id": "3063e5d9",
   "metadata": {},
   "source": [
    "#### Rename Columns for Readability"
   ]
  },
  {
   "cell_type": "code",
   "execution_count": 38,
   "id": "2fd0855b",
   "metadata": {},
   "outputs": [
    {
     "data": {
      "text/html": [
       "<div>\n",
       "<style scoped>\n",
       "    .dataframe tbody tr th:only-of-type {\n",
       "        vertical-align: middle;\n",
       "    }\n",
       "\n",
       "    .dataframe tbody tr th {\n",
       "        vertical-align: top;\n",
       "    }\n",
       "\n",
       "    .dataframe thead th {\n",
       "        text-align: right;\n",
       "    }\n",
       "</style>\n",
       "<table border=\"1\" class=\"dataframe\">\n",
       "  <thead>\n",
       "    <tr style=\"text-align: right;\">\n",
       "      <th></th>\n",
       "      <th>age</th>\n",
       "      <th>job</th>\n",
       "      <th>marital</th>\n",
       "      <th>education</th>\n",
       "      <th>default</th>\n",
       "      <th>housing</th>\n",
       "      <th>loan</th>\n",
       "      <th>contact</th>\n",
       "      <th>month</th>\n",
       "      <th>day_of_week</th>\n",
       "      <th>...</th>\n",
       "      <th>pdays</th>\n",
       "      <th>previous</th>\n",
       "      <th>poutcome</th>\n",
       "      <th>emp.var.rate</th>\n",
       "      <th>cons.price.idx</th>\n",
       "      <th>cons.conf.idx</th>\n",
       "      <th>euribor3m</th>\n",
       "      <th>nr.employed</th>\n",
       "      <th>y</th>\n",
       "      <th>Target</th>\n",
       "    </tr>\n",
       "  </thead>\n",
       "  <tbody>\n",
       "    <tr>\n",
       "      <th>0</th>\n",
       "      <td>56</td>\n",
       "      <td>0</td>\n",
       "      <td>1</td>\n",
       "      <td>1</td>\n",
       "      <td>1</td>\n",
       "      <td>1</td>\n",
       "      <td>1</td>\n",
       "      <td>1</td>\n",
       "      <td>1</td>\n",
       "      <td>1</td>\n",
       "      <td>...</td>\n",
       "      <td>999</td>\n",
       "      <td>0</td>\n",
       "      <td>1</td>\n",
       "      <td>1.1</td>\n",
       "      <td>93.994</td>\n",
       "      <td>-36.4</td>\n",
       "      <td>4.857</td>\n",
       "      <td>5191.0</td>\n",
       "      <td>no</td>\n",
       "      <td>0</td>\n",
       "    </tr>\n",
       "    <tr>\n",
       "      <th>1</th>\n",
       "      <td>57</td>\n",
       "      <td>1</td>\n",
       "      <td>1</td>\n",
       "      <td>2</td>\n",
       "      <td>2</td>\n",
       "      <td>1</td>\n",
       "      <td>1</td>\n",
       "      <td>1</td>\n",
       "      <td>1</td>\n",
       "      <td>1</td>\n",
       "      <td>...</td>\n",
       "      <td>999</td>\n",
       "      <td>0</td>\n",
       "      <td>1</td>\n",
       "      <td>1.1</td>\n",
       "      <td>93.994</td>\n",
       "      <td>-36.4</td>\n",
       "      <td>4.857</td>\n",
       "      <td>5191.0</td>\n",
       "      <td>no</td>\n",
       "      <td>0</td>\n",
       "    </tr>\n",
       "    <tr>\n",
       "      <th>2</th>\n",
       "      <td>37</td>\n",
       "      <td>1</td>\n",
       "      <td>1</td>\n",
       "      <td>2</td>\n",
       "      <td>1</td>\n",
       "      <td>2</td>\n",
       "      <td>1</td>\n",
       "      <td>1</td>\n",
       "      <td>1</td>\n",
       "      <td>1</td>\n",
       "      <td>...</td>\n",
       "      <td>999</td>\n",
       "      <td>0</td>\n",
       "      <td>1</td>\n",
       "      <td>1.1</td>\n",
       "      <td>93.994</td>\n",
       "      <td>-36.4</td>\n",
       "      <td>4.857</td>\n",
       "      <td>5191.0</td>\n",
       "      <td>no</td>\n",
       "      <td>0</td>\n",
       "    </tr>\n",
       "    <tr>\n",
       "      <th>3</th>\n",
       "      <td>40</td>\n",
       "      <td>2</td>\n",
       "      <td>1</td>\n",
       "      <td>3</td>\n",
       "      <td>1</td>\n",
       "      <td>1</td>\n",
       "      <td>1</td>\n",
       "      <td>1</td>\n",
       "      <td>1</td>\n",
       "      <td>1</td>\n",
       "      <td>...</td>\n",
       "      <td>999</td>\n",
       "      <td>0</td>\n",
       "      <td>1</td>\n",
       "      <td>1.1</td>\n",
       "      <td>93.994</td>\n",
       "      <td>-36.4</td>\n",
       "      <td>4.857</td>\n",
       "      <td>5191.0</td>\n",
       "      <td>no</td>\n",
       "      <td>0</td>\n",
       "    </tr>\n",
       "    <tr>\n",
       "      <th>4</th>\n",
       "      <td>56</td>\n",
       "      <td>1</td>\n",
       "      <td>1</td>\n",
       "      <td>2</td>\n",
       "      <td>1</td>\n",
       "      <td>1</td>\n",
       "      <td>2</td>\n",
       "      <td>1</td>\n",
       "      <td>1</td>\n",
       "      <td>1</td>\n",
       "      <td>...</td>\n",
       "      <td>999</td>\n",
       "      <td>0</td>\n",
       "      <td>1</td>\n",
       "      <td>1.1</td>\n",
       "      <td>93.994</td>\n",
       "      <td>-36.4</td>\n",
       "      <td>4.857</td>\n",
       "      <td>5191.0</td>\n",
       "      <td>no</td>\n",
       "      <td>0</td>\n",
       "    </tr>\n",
       "    <tr>\n",
       "      <th>...</th>\n",
       "      <td>...</td>\n",
       "      <td>...</td>\n",
       "      <td>...</td>\n",
       "      <td>...</td>\n",
       "      <td>...</td>\n",
       "      <td>...</td>\n",
       "      <td>...</td>\n",
       "      <td>...</td>\n",
       "      <td>...</td>\n",
       "      <td>...</td>\n",
       "      <td>...</td>\n",
       "      <td>...</td>\n",
       "      <td>...</td>\n",
       "      <td>...</td>\n",
       "      <td>...</td>\n",
       "      <td>...</td>\n",
       "      <td>...</td>\n",
       "      <td>...</td>\n",
       "      <td>...</td>\n",
       "      <td>...</td>\n",
       "      <td>...</td>\n",
       "    </tr>\n",
       "    <tr>\n",
       "      <th>41183</th>\n",
       "      <td>73</td>\n",
       "      <td>4</td>\n",
       "      <td>1</td>\n",
       "      <td>5</td>\n",
       "      <td>1</td>\n",
       "      <td>2</td>\n",
       "      <td>1</td>\n",
       "      <td>2</td>\n",
       "      <td>6</td>\n",
       "      <td>5</td>\n",
       "      <td>...</td>\n",
       "      <td>999</td>\n",
       "      <td>0</td>\n",
       "      <td>1</td>\n",
       "      <td>-1.1</td>\n",
       "      <td>94.767</td>\n",
       "      <td>-50.8</td>\n",
       "      <td>1.028</td>\n",
       "      <td>4963.6</td>\n",
       "      <td>yes</td>\n",
       "      <td>1</td>\n",
       "    </tr>\n",
       "    <tr>\n",
       "      <th>41184</th>\n",
       "      <td>46</td>\n",
       "      <td>3</td>\n",
       "      <td>1</td>\n",
       "      <td>5</td>\n",
       "      <td>1</td>\n",
       "      <td>1</td>\n",
       "      <td>1</td>\n",
       "      <td>2</td>\n",
       "      <td>6</td>\n",
       "      <td>5</td>\n",
       "      <td>...</td>\n",
       "      <td>999</td>\n",
       "      <td>0</td>\n",
       "      <td>1</td>\n",
       "      <td>-1.1</td>\n",
       "      <td>94.767</td>\n",
       "      <td>-50.8</td>\n",
       "      <td>1.028</td>\n",
       "      <td>4963.6</td>\n",
       "      <td>no</td>\n",
       "      <td>0</td>\n",
       "    </tr>\n",
       "    <tr>\n",
       "      <th>41185</th>\n",
       "      <td>56</td>\n",
       "      <td>4</td>\n",
       "      <td>1</td>\n",
       "      <td>7</td>\n",
       "      <td>1</td>\n",
       "      <td>2</td>\n",
       "      <td>1</td>\n",
       "      <td>2</td>\n",
       "      <td>6</td>\n",
       "      <td>5</td>\n",
       "      <td>...</td>\n",
       "      <td>999</td>\n",
       "      <td>0</td>\n",
       "      <td>1</td>\n",
       "      <td>-1.1</td>\n",
       "      <td>94.767</td>\n",
       "      <td>-50.8</td>\n",
       "      <td>1.028</td>\n",
       "      <td>4963.6</td>\n",
       "      <td>no</td>\n",
       "      <td>0</td>\n",
       "    </tr>\n",
       "    <tr>\n",
       "      <th>41186</th>\n",
       "      <td>44</td>\n",
       "      <td>5</td>\n",
       "      <td>1</td>\n",
       "      <td>5</td>\n",
       "      <td>1</td>\n",
       "      <td>1</td>\n",
       "      <td>1</td>\n",
       "      <td>2</td>\n",
       "      <td>6</td>\n",
       "      <td>5</td>\n",
       "      <td>...</td>\n",
       "      <td>999</td>\n",
       "      <td>0</td>\n",
       "      <td>1</td>\n",
       "      <td>-1.1</td>\n",
       "      <td>94.767</td>\n",
       "      <td>-50.8</td>\n",
       "      <td>1.028</td>\n",
       "      <td>4963.6</td>\n",
       "      <td>yes</td>\n",
       "      <td>1</td>\n",
       "    </tr>\n",
       "    <tr>\n",
       "      <th>41187</th>\n",
       "      <td>74</td>\n",
       "      <td>4</td>\n",
       "      <td>1</td>\n",
       "      <td>5</td>\n",
       "      <td>1</td>\n",
       "      <td>2</td>\n",
       "      <td>1</td>\n",
       "      <td>2</td>\n",
       "      <td>6</td>\n",
       "      <td>5</td>\n",
       "      <td>...</td>\n",
       "      <td>999</td>\n",
       "      <td>1</td>\n",
       "      <td>2</td>\n",
       "      <td>-1.1</td>\n",
       "      <td>94.767</td>\n",
       "      <td>-50.8</td>\n",
       "      <td>1.028</td>\n",
       "      <td>4963.6</td>\n",
       "      <td>no</td>\n",
       "      <td>0</td>\n",
       "    </tr>\n",
       "  </tbody>\n",
       "</table>\n",
       "<p>41188 rows × 22 columns</p>\n",
       "</div>"
      ],
      "text/plain": [
       "       age  job  marital  education  default  housing  loan  contact  month  \\\n",
       "0       56    0        1          1        1        1     1        1      1   \n",
       "1       57    1        1          2        2        1     1        1      1   \n",
       "2       37    1        1          2        1        2     1        1      1   \n",
       "3       40    2        1          3        1        1     1        1      1   \n",
       "4       56    1        1          2        1        1     2        1      1   \n",
       "...    ...  ...      ...        ...      ...      ...   ...      ...    ...   \n",
       "41183   73    4        1          5        1        2     1        2      6   \n",
       "41184   46    3        1          5        1        1     1        2      6   \n",
       "41185   56    4        1          7        1        2     1        2      6   \n",
       "41186   44    5        1          5        1        1     1        2      6   \n",
       "41187   74    4        1          5        1        2     1        2      6   \n",
       "\n",
       "       day_of_week  ...  pdays  previous  poutcome  emp.var.rate  \\\n",
       "0                1  ...    999         0         1           1.1   \n",
       "1                1  ...    999         0         1           1.1   \n",
       "2                1  ...    999         0         1           1.1   \n",
       "3                1  ...    999         0         1           1.1   \n",
       "4                1  ...    999         0         1           1.1   \n",
       "...            ...  ...    ...       ...       ...           ...   \n",
       "41183            5  ...    999         0         1          -1.1   \n",
       "41184            5  ...    999         0         1          -1.1   \n",
       "41185            5  ...    999         0         1          -1.1   \n",
       "41186            5  ...    999         0         1          -1.1   \n",
       "41187            5  ...    999         1         2          -1.1   \n",
       "\n",
       "       cons.price.idx  cons.conf.idx  euribor3m  nr.employed    y  Target  \n",
       "0              93.994          -36.4      4.857       5191.0   no       0  \n",
       "1              93.994          -36.4      4.857       5191.0   no       0  \n",
       "2              93.994          -36.4      4.857       5191.0   no       0  \n",
       "3              93.994          -36.4      4.857       5191.0   no       0  \n",
       "4              93.994          -36.4      4.857       5191.0   no       0  \n",
       "...               ...            ...        ...          ...  ...     ...  \n",
       "41183          94.767          -50.8      1.028       4963.6  yes       1  \n",
       "41184          94.767          -50.8      1.028       4963.6   no       0  \n",
       "41185          94.767          -50.8      1.028       4963.6   no       0  \n",
       "41186          94.767          -50.8      1.028       4963.6  yes       1  \n",
       "41187          94.767          -50.8      1.028       4963.6   no       0  \n",
       "\n",
       "[41188 rows x 22 columns]"
      ]
     },
     "execution_count": 38,
     "metadata": {},
     "output_type": "execute_result"
    }
   ],
   "source": [
    "df"
   ]
  },
  {
   "cell_type": "code",
   "execution_count": 39,
   "id": "1ef543b1",
   "metadata": {},
   "outputs": [],
   "source": [
    "df=df.rename(columns = {'y':'Target', 'poutcome':'previous_outcome'})"
   ]
  },
  {
   "cell_type": "code",
   "execution_count": 40,
   "id": "e5b7f158",
   "metadata": {},
   "outputs": [],
   "source": [
    "df['job'] = df['job'].replace(['blue-collar'], ['bluecollar'])"
   ]
  },
  {
   "cell_type": "code",
   "execution_count": 41,
   "id": "583d63a5",
   "metadata": {},
   "outputs": [
    {
     "data": {
      "text/html": [
       "<div>\n",
       "<style scoped>\n",
       "    .dataframe tbody tr th:only-of-type {\n",
       "        vertical-align: middle;\n",
       "    }\n",
       "\n",
       "    .dataframe tbody tr th {\n",
       "        vertical-align: top;\n",
       "    }\n",
       "\n",
       "    .dataframe thead th {\n",
       "        text-align: right;\n",
       "    }\n",
       "</style>\n",
       "<table border=\"1\" class=\"dataframe\">\n",
       "  <thead>\n",
       "    <tr style=\"text-align: right;\">\n",
       "      <th></th>\n",
       "      <th>age</th>\n",
       "      <th>job</th>\n",
       "      <th>marital</th>\n",
       "      <th>education</th>\n",
       "      <th>default</th>\n",
       "      <th>housing</th>\n",
       "      <th>loan</th>\n",
       "      <th>contact</th>\n",
       "      <th>month</th>\n",
       "      <th>day_of_week</th>\n",
       "      <th>...</th>\n",
       "      <th>pdays</th>\n",
       "      <th>previous</th>\n",
       "      <th>previous_outcome</th>\n",
       "      <th>emp.var.rate</th>\n",
       "      <th>cons.price.idx</th>\n",
       "      <th>cons.conf.idx</th>\n",
       "      <th>euribor3m</th>\n",
       "      <th>nr.employed</th>\n",
       "      <th>Target</th>\n",
       "      <th>Target</th>\n",
       "    </tr>\n",
       "  </thead>\n",
       "  <tbody>\n",
       "    <tr>\n",
       "      <th>0</th>\n",
       "      <td>56</td>\n",
       "      <td>0</td>\n",
       "      <td>1</td>\n",
       "      <td>1</td>\n",
       "      <td>1</td>\n",
       "      <td>1</td>\n",
       "      <td>1</td>\n",
       "      <td>1</td>\n",
       "      <td>1</td>\n",
       "      <td>1</td>\n",
       "      <td>...</td>\n",
       "      <td>999</td>\n",
       "      <td>0</td>\n",
       "      <td>1</td>\n",
       "      <td>1.1</td>\n",
       "      <td>93.994</td>\n",
       "      <td>-36.4</td>\n",
       "      <td>4.857</td>\n",
       "      <td>5191.0</td>\n",
       "      <td>no</td>\n",
       "      <td>0</td>\n",
       "    </tr>\n",
       "    <tr>\n",
       "      <th>1</th>\n",
       "      <td>57</td>\n",
       "      <td>1</td>\n",
       "      <td>1</td>\n",
       "      <td>2</td>\n",
       "      <td>2</td>\n",
       "      <td>1</td>\n",
       "      <td>1</td>\n",
       "      <td>1</td>\n",
       "      <td>1</td>\n",
       "      <td>1</td>\n",
       "      <td>...</td>\n",
       "      <td>999</td>\n",
       "      <td>0</td>\n",
       "      <td>1</td>\n",
       "      <td>1.1</td>\n",
       "      <td>93.994</td>\n",
       "      <td>-36.4</td>\n",
       "      <td>4.857</td>\n",
       "      <td>5191.0</td>\n",
       "      <td>no</td>\n",
       "      <td>0</td>\n",
       "    </tr>\n",
       "    <tr>\n",
       "      <th>2</th>\n",
       "      <td>37</td>\n",
       "      <td>1</td>\n",
       "      <td>1</td>\n",
       "      <td>2</td>\n",
       "      <td>1</td>\n",
       "      <td>2</td>\n",
       "      <td>1</td>\n",
       "      <td>1</td>\n",
       "      <td>1</td>\n",
       "      <td>1</td>\n",
       "      <td>...</td>\n",
       "      <td>999</td>\n",
       "      <td>0</td>\n",
       "      <td>1</td>\n",
       "      <td>1.1</td>\n",
       "      <td>93.994</td>\n",
       "      <td>-36.4</td>\n",
       "      <td>4.857</td>\n",
       "      <td>5191.0</td>\n",
       "      <td>no</td>\n",
       "      <td>0</td>\n",
       "    </tr>\n",
       "    <tr>\n",
       "      <th>3</th>\n",
       "      <td>40</td>\n",
       "      <td>2</td>\n",
       "      <td>1</td>\n",
       "      <td>3</td>\n",
       "      <td>1</td>\n",
       "      <td>1</td>\n",
       "      <td>1</td>\n",
       "      <td>1</td>\n",
       "      <td>1</td>\n",
       "      <td>1</td>\n",
       "      <td>...</td>\n",
       "      <td>999</td>\n",
       "      <td>0</td>\n",
       "      <td>1</td>\n",
       "      <td>1.1</td>\n",
       "      <td>93.994</td>\n",
       "      <td>-36.4</td>\n",
       "      <td>4.857</td>\n",
       "      <td>5191.0</td>\n",
       "      <td>no</td>\n",
       "      <td>0</td>\n",
       "    </tr>\n",
       "    <tr>\n",
       "      <th>4</th>\n",
       "      <td>56</td>\n",
       "      <td>1</td>\n",
       "      <td>1</td>\n",
       "      <td>2</td>\n",
       "      <td>1</td>\n",
       "      <td>1</td>\n",
       "      <td>2</td>\n",
       "      <td>1</td>\n",
       "      <td>1</td>\n",
       "      <td>1</td>\n",
       "      <td>...</td>\n",
       "      <td>999</td>\n",
       "      <td>0</td>\n",
       "      <td>1</td>\n",
       "      <td>1.1</td>\n",
       "      <td>93.994</td>\n",
       "      <td>-36.4</td>\n",
       "      <td>4.857</td>\n",
       "      <td>5191.0</td>\n",
       "      <td>no</td>\n",
       "      <td>0</td>\n",
       "    </tr>\n",
       "  </tbody>\n",
       "</table>\n",
       "<p>5 rows × 22 columns</p>\n",
       "</div>"
      ],
      "text/plain": [
       "   age  job  marital  education  default  housing  loan  contact  month  \\\n",
       "0   56    0        1          1        1        1     1        1      1   \n",
       "1   57    1        1          2        2        1     1        1      1   \n",
       "2   37    1        1          2        1        2     1        1      1   \n",
       "3   40    2        1          3        1        1     1        1      1   \n",
       "4   56    1        1          2        1        1     2        1      1   \n",
       "\n",
       "   day_of_week  ...  pdays  previous  previous_outcome  emp.var.rate  \\\n",
       "0            1  ...    999         0                 1           1.1   \n",
       "1            1  ...    999         0                 1           1.1   \n",
       "2            1  ...    999         0                 1           1.1   \n",
       "3            1  ...    999         0                 1           1.1   \n",
       "4            1  ...    999         0                 1           1.1   \n",
       "\n",
       "   cons.price.idx  cons.conf.idx  euribor3m  nr.employed  Target  Target  \n",
       "0          93.994          -36.4      4.857       5191.0      no       0  \n",
       "1          93.994          -36.4      4.857       5191.0      no       0  \n",
       "2          93.994          -36.4      4.857       5191.0      no       0  \n",
       "3          93.994          -36.4      4.857       5191.0      no       0  \n",
       "4          93.994          -36.4      4.857       5191.0      no       0  \n",
       "\n",
       "[5 rows x 22 columns]"
      ]
     },
     "execution_count": 41,
     "metadata": {},
     "output_type": "execute_result"
    }
   ],
   "source": [
    "df.head()"
   ]
  },
  {
   "cell_type": "markdown",
   "id": "8448a88d",
   "metadata": {},
   "source": [
    "# Investigating Variables"
   ]
  },
  {
   "cell_type": "markdown",
   "id": "43dec2dd",
   "metadata": {},
   "source": [
    "Look at correlations between all of the varables and Target"
   ]
  },
  {
   "cell_type": "code",
   "execution_count": 42,
   "id": "46c684e1",
   "metadata": {},
   "outputs": [
    {
     "data": {
      "text/plain": [
       "<AxesSubplot:>"
      ]
     },
     "execution_count": 42,
     "metadata": {},
     "output_type": "execute_result"
    },
    {
     "data": {
      "image/png": "[encoded data removed]",
      "text/plain": [
       "<Figure size 432x288 with 2 Axes>"
      ]
     },
     "metadata": {},
     "output_type": "display_data"
    }
   ],
   "source": [
    "cor = df.corr()\n",
    "sns.heatmap(cor)"
   ]
  },
  {
   "cell_type": "markdown",
   "id": "f0bbca32",
   "metadata": {},
   "source": [
    "Look at each correlation coefficient as the heatmap had only a few correlations and it was unclear how much they were correlated"
   ]
  },
  {
   "cell_type": "code",
   "execution_count": 43,
   "id": "288ccaa1",
   "metadata": {},
   "outputs": [
    {
     "data": {
      "text/html": [
       "<div>\n",
       "<style scoped>\n",
       "    .dataframe tbody tr th:only-of-type {\n",
       "        vertical-align: middle;\n",
       "    }\n",
       "\n",
       "    .dataframe tbody tr th {\n",
       "        vertical-align: top;\n",
       "    }\n",
       "\n",
       "    .dataframe thead th {\n",
       "        text-align: right;\n",
       "    }\n",
       "</style>\n",
       "<table border=\"1\" class=\"dataframe\">\n",
       "  <thead>\n",
       "    <tr style=\"text-align: right;\">\n",
       "      <th></th>\n",
       "      <th>age</th>\n",
       "      <th>job</th>\n",
       "      <th>marital</th>\n",
       "      <th>education</th>\n",
       "      <th>default</th>\n",
       "      <th>housing</th>\n",
       "      <th>loan</th>\n",
       "      <th>contact</th>\n",
       "      <th>month</th>\n",
       "      <th>day_of_week</th>\n",
       "      <th>...</th>\n",
       "      <th>campaign</th>\n",
       "      <th>pdays</th>\n",
       "      <th>previous</th>\n",
       "      <th>previous_outcome</th>\n",
       "      <th>emp.var.rate</th>\n",
       "      <th>cons.price.idx</th>\n",
       "      <th>cons.conf.idx</th>\n",
       "      <th>euribor3m</th>\n",
       "      <th>nr.employed</th>\n",
       "      <th>Target</th>\n",
       "    </tr>\n",
       "  </thead>\n",
       "  <tbody>\n",
       "    <tr>\n",
       "      <th>age</th>\n",
       "      <td>1.000000</td>\n",
       "      <td>-0.014993</td>\n",
       "      <td>-0.114983</td>\n",
       "      <td>-0.091900</td>\n",
       "      <td>0.164965</td>\n",
       "      <td>-0.001923</td>\n",
       "      <td>-0.006397</td>\n",
       "      <td>-0.007021</td>\n",
       "      <td>0.083423</td>\n",
       "      <td>-0.018486</td>\n",
       "      <td>...</td>\n",
       "      <td>0.004594</td>\n",
       "      <td>-0.034369</td>\n",
       "      <td>0.024365</td>\n",
       "      <td>0.026371</td>\n",
       "      <td>-0.000371</td>\n",
       "      <td>0.000857</td>\n",
       "      <td>0.129372</td>\n",
       "      <td>0.010767</td>\n",
       "      <td>-0.017725</td>\n",
       "      <td>0.030399</td>\n",
       "    </tr>\n",
       "    <tr>\n",
       "      <th>job</th>\n",
       "      <td>-0.014993</td>\n",
       "      <td>1.000000</td>\n",
       "      <td>-0.000965</td>\n",
       "      <td>0.192795</td>\n",
       "      <td>-0.023549</td>\n",
       "      <td>0.006694</td>\n",
       "      <td>-0.005909</td>\n",
       "      <td>0.021200</td>\n",
       "      <td>0.073373</td>\n",
       "      <td>-0.000986</td>\n",
       "      <td>...</td>\n",
       "      <td>-0.016045</td>\n",
       "      <td>-0.044428</td>\n",
       "      <td>0.042798</td>\n",
       "      <td>0.040643</td>\n",
       "      <td>-0.065368</td>\n",
       "      <td>-0.042785</td>\n",
       "      <td>0.023762</td>\n",
       "      <td>-0.055631</td>\n",
       "      <td>-0.065477</td>\n",
       "      <td>0.045647</td>\n",
       "    </tr>\n",
       "    <tr>\n",
       "      <th>marital</th>\n",
       "      <td>-0.114983</td>\n",
       "      <td>-0.000965</td>\n",
       "      <td>1.000000</td>\n",
       "      <td>0.063774</td>\n",
       "      <td>-0.103930</td>\n",
       "      <td>0.007436</td>\n",
       "      <td>0.001719</td>\n",
       "      <td>0.043564</td>\n",
       "      <td>0.020613</td>\n",
       "      <td>-0.004210</td>\n",
       "      <td>...</td>\n",
       "      <td>0.002269</td>\n",
       "      <td>-0.017635</td>\n",
       "      <td>0.030222</td>\n",
       "      <td>0.030627</td>\n",
       "      <td>-0.048931</td>\n",
       "      <td>-0.024995</td>\n",
       "      <td>-0.051013</td>\n",
       "      <td>-0.054623</td>\n",
       "      <td>-0.050058</td>\n",
       "      <td>0.026302</td>\n",
       "    </tr>\n",
       "    <tr>\n",
       "      <th>education</th>\n",
       "      <td>-0.091900</td>\n",
       "      <td>0.192795</td>\n",
       "      <td>0.063774</td>\n",
       "      <td>1.000000</td>\n",
       "      <td>-0.144138</td>\n",
       "      <td>0.013023</td>\n",
       "      <td>0.001887</td>\n",
       "      <td>0.095383</td>\n",
       "      <td>0.114478</td>\n",
       "      <td>0.008519</td>\n",
       "      <td>...</td>\n",
       "      <td>-0.001521</td>\n",
       "      <td>-0.034772</td>\n",
       "      <td>0.022826</td>\n",
       "      <td>0.025419</td>\n",
       "      <td>-0.033385</td>\n",
       "      <td>-0.079517</td>\n",
       "      <td>0.071758</td>\n",
       "      <td>-0.024348</td>\n",
       "      <td>-0.025485</td>\n",
       "      <td>0.045721</td>\n",
       "    </tr>\n",
       "    <tr>\n",
       "      <th>default</th>\n",
       "      <td>0.164965</td>\n",
       "      <td>-0.023549</td>\n",
       "      <td>-0.103930</td>\n",
       "      <td>-0.144138</td>\n",
       "      <td>1.000000</td>\n",
       "      <td>-0.011051</td>\n",
       "      <td>0.000970</td>\n",
       "      <td>-0.135238</td>\n",
       "      <td>-0.135510</td>\n",
       "      <td>-0.004286</td>\n",
       "      <td>...</td>\n",
       "      <td>0.032825</td>\n",
       "      <td>0.080062</td>\n",
       "      <td>-0.102416</td>\n",
       "      <td>-0.108159</td>\n",
       "      <td>0.203263</td>\n",
       "      <td>0.168073</td>\n",
       "      <td>0.026522</td>\n",
       "      <td>0.195336</td>\n",
       "      <td>0.189845</td>\n",
       "      <td>-0.099352</td>\n",
       "    </tr>\n",
       "    <tr>\n",
       "      <th>housing</th>\n",
       "      <td>-0.001923</td>\n",
       "      <td>0.006694</td>\n",
       "      <td>0.007436</td>\n",
       "      <td>0.013023</td>\n",
       "      <td>-0.011051</td>\n",
       "      <td>1.000000</td>\n",
       "      <td>0.289759</td>\n",
       "      <td>0.065393</td>\n",
       "      <td>0.046369</td>\n",
       "      <td>-0.007088</td>\n",
       "      <td>...</td>\n",
       "      <td>-0.010190</td>\n",
       "      <td>-0.008741</td>\n",
       "      <td>0.021002</td>\n",
       "      <td>0.021433</td>\n",
       "      <td>-0.053458</td>\n",
       "      <td>-0.066337</td>\n",
       "      <td>-0.027737</td>\n",
       "      <td>-0.052739</td>\n",
       "      <td>-0.042281</td>\n",
       "      <td>0.009552</td>\n",
       "    </tr>\n",
       "    <tr>\n",
       "      <th>loan</th>\n",
       "      <td>-0.006397</td>\n",
       "      <td>-0.005909</td>\n",
       "      <td>0.001719</td>\n",
       "      <td>0.001887</td>\n",
       "      <td>0.000970</td>\n",
       "      <td>0.289759</td>\n",
       "      <td>1.000000</td>\n",
       "      <td>-0.004391</td>\n",
       "      <td>-0.009311</td>\n",
       "      <td>0.003206</td>\n",
       "      <td>...</td>\n",
       "      <td>0.003899</td>\n",
       "      <td>0.001298</td>\n",
       "      <td>0.000846</td>\n",
       "      <td>-0.000581</td>\n",
       "      <td>0.003055</td>\n",
       "      <td>0.006315</td>\n",
       "      <td>-0.005895</td>\n",
       "      <td>0.001547</td>\n",
       "      <td>0.002464</td>\n",
       "      <td>-0.005038</td>\n",
       "    </tr>\n",
       "    <tr>\n",
       "      <th>contact</th>\n",
       "      <td>-0.007021</td>\n",
       "      <td>0.021200</td>\n",
       "      <td>0.043564</td>\n",
       "      <td>0.095383</td>\n",
       "      <td>-0.135238</td>\n",
       "      <td>0.065393</td>\n",
       "      <td>-0.004391</td>\n",
       "      <td>1.000000</td>\n",
       "      <td>0.430499</td>\n",
       "      <td>-0.019583</td>\n",
       "      <td>...</td>\n",
       "      <td>-0.077368</td>\n",
       "      <td>-0.117970</td>\n",
       "      <td>0.212848</td>\n",
       "      <td>0.226813</td>\n",
       "      <td>-0.393584</td>\n",
       "      <td>-0.591474</td>\n",
       "      <td>-0.251614</td>\n",
       "      <td>-0.399773</td>\n",
       "      <td>-0.269155</td>\n",
       "      <td>0.144773</td>\n",
       "    </tr>\n",
       "    <tr>\n",
       "      <th>month</th>\n",
       "      <td>0.083423</td>\n",
       "      <td>0.073373</td>\n",
       "      <td>0.020613</td>\n",
       "      <td>0.114478</td>\n",
       "      <td>-0.135510</td>\n",
       "      <td>0.046369</td>\n",
       "      <td>-0.009311</td>\n",
       "      <td>0.430499</td>\n",
       "      <td>1.000000</td>\n",
       "      <td>0.011701</td>\n",
       "      <td>...</td>\n",
       "      <td>-0.080737</td>\n",
       "      <td>-0.135025</td>\n",
       "      <td>0.175737</td>\n",
       "      <td>0.184769</td>\n",
       "      <td>-0.306009</td>\n",
       "      <td>-0.330558</td>\n",
       "      <td>-0.060670</td>\n",
       "      <td>-0.276126</td>\n",
       "      <td>-0.262145</td>\n",
       "      <td>0.183471</td>\n",
       "    </tr>\n",
       "    <tr>\n",
       "      <th>day_of_week</th>\n",
       "      <td>-0.018486</td>\n",
       "      <td>-0.000986</td>\n",
       "      <td>-0.004210</td>\n",
       "      <td>0.008519</td>\n",
       "      <td>-0.004286</td>\n",
       "      <td>-0.007088</td>\n",
       "      <td>0.003206</td>\n",
       "      <td>-0.019583</td>\n",
       "      <td>0.011701</td>\n",
       "      <td>1.000000</td>\n",
       "      <td>...</td>\n",
       "      <td>0.015098</td>\n",
       "      <td>0.006765</td>\n",
       "      <td>0.004013</td>\n",
       "      <td>0.003279</td>\n",
       "      <td>-0.004401</td>\n",
       "      <td>-0.004586</td>\n",
       "      <td>-0.000099</td>\n",
       "      <td>-0.005552</td>\n",
       "      <td>-0.000734</td>\n",
       "      <td>0.010051</td>\n",
       "    </tr>\n",
       "    <tr>\n",
       "      <th>duration</th>\n",
       "      <td>-0.000866</td>\n",
       "      <td>0.006392</td>\n",
       "      <td>0.001220</td>\n",
       "      <td>-0.014778</td>\n",
       "      <td>-0.011794</td>\n",
       "      <td>-0.009050</td>\n",
       "      <td>-0.003194</td>\n",
       "      <td>0.026657</td>\n",
       "      <td>0.018180</td>\n",
       "      <td>0.010549</td>\n",
       "      <td>...</td>\n",
       "      <td>-0.071699</td>\n",
       "      <td>-0.047577</td>\n",
       "      <td>0.020640</td>\n",
       "      <td>0.026465</td>\n",
       "      <td>-0.027968</td>\n",
       "      <td>0.005312</td>\n",
       "      <td>-0.008173</td>\n",
       "      <td>-0.032897</td>\n",
       "      <td>-0.044703</td>\n",
       "      <td>0.405274</td>\n",
       "    </tr>\n",
       "    <tr>\n",
       "      <th>campaign</th>\n",
       "      <td>0.004594</td>\n",
       "      <td>-0.016045</td>\n",
       "      <td>0.002269</td>\n",
       "      <td>-0.001521</td>\n",
       "      <td>0.032825</td>\n",
       "      <td>-0.010190</td>\n",
       "      <td>0.003899</td>\n",
       "      <td>-0.077368</td>\n",
       "      <td>-0.080737</td>\n",
       "      <td>0.015098</td>\n",
       "      <td>...</td>\n",
       "      <td>1.000000</td>\n",
       "      <td>0.052584</td>\n",
       "      <td>-0.079141</td>\n",
       "      <td>-0.086083</td>\n",
       "      <td>0.150754</td>\n",
       "      <td>0.127836</td>\n",
       "      <td>-0.013733</td>\n",
       "      <td>0.135133</td>\n",
       "      <td>0.144095</td>\n",
       "      <td>-0.066357</td>\n",
       "    </tr>\n",
       "    <tr>\n",
       "      <th>pdays</th>\n",
       "      <td>-0.034369</td>\n",
       "      <td>-0.044428</td>\n",
       "      <td>-0.017635</td>\n",
       "      <td>-0.034772</td>\n",
       "      <td>0.080062</td>\n",
       "      <td>-0.008741</td>\n",
       "      <td>0.001298</td>\n",
       "      <td>-0.117970</td>\n",
       "      <td>-0.135025</td>\n",
       "      <td>0.006765</td>\n",
       "      <td>...</td>\n",
       "      <td>0.052584</td>\n",
       "      <td>1.000000</td>\n",
       "      <td>-0.587514</td>\n",
       "      <td>-0.744679</td>\n",
       "      <td>0.271004</td>\n",
       "      <td>0.078889</td>\n",
       "      <td>-0.091342</td>\n",
       "      <td>0.296899</td>\n",
       "      <td>0.372605</td>\n",
       "      <td>-0.324914</td>\n",
       "    </tr>\n",
       "    <tr>\n",
       "      <th>previous</th>\n",
       "      <td>0.024365</td>\n",
       "      <td>0.042798</td>\n",
       "      <td>0.030222</td>\n",
       "      <td>0.022826</td>\n",
       "      <td>-0.102416</td>\n",
       "      <td>0.021002</td>\n",
       "      <td>0.000846</td>\n",
       "      <td>0.212848</td>\n",
       "      <td>0.175737</td>\n",
       "      <td>0.004013</td>\n",
       "      <td>...</td>\n",
       "      <td>-0.079141</td>\n",
       "      <td>-0.587514</td>\n",
       "      <td>1.000000</td>\n",
       "      <td>0.868540</td>\n",
       "      <td>-0.420489</td>\n",
       "      <td>-0.203130</td>\n",
       "      <td>-0.050936</td>\n",
       "      <td>-0.454494</td>\n",
       "      <td>-0.501333</td>\n",
       "      <td>0.230181</td>\n",
       "    </tr>\n",
       "    <tr>\n",
       "      <th>previous_outcome</th>\n",
       "      <td>0.026371</td>\n",
       "      <td>0.040643</td>\n",
       "      <td>0.030627</td>\n",
       "      <td>0.025419</td>\n",
       "      <td>-0.108159</td>\n",
       "      <td>0.021433</td>\n",
       "      <td>-0.000581</td>\n",
       "      <td>0.226813</td>\n",
       "      <td>0.184769</td>\n",
       "      <td>0.003279</td>\n",
       "      <td>...</td>\n",
       "      <td>-0.086083</td>\n",
       "      <td>-0.744679</td>\n",
       "      <td>0.868540</td>\n",
       "      <td>1.000000</td>\n",
       "      <td>-0.457197</td>\n",
       "      <td>-0.259746</td>\n",
       "      <td>-0.041728</td>\n",
       "      <td>-0.478687</td>\n",
       "      <td>-0.509597</td>\n",
       "      <td>0.270373</td>\n",
       "    </tr>\n",
       "    <tr>\n",
       "      <th>emp.var.rate</th>\n",
       "      <td>-0.000371</td>\n",
       "      <td>-0.065368</td>\n",
       "      <td>-0.048931</td>\n",
       "      <td>-0.033385</td>\n",
       "      <td>0.203263</td>\n",
       "      <td>-0.053458</td>\n",
       "      <td>0.003055</td>\n",
       "      <td>-0.393584</td>\n",
       "      <td>-0.306009</td>\n",
       "      <td>-0.004401</td>\n",
       "      <td>...</td>\n",
       "      <td>0.150754</td>\n",
       "      <td>0.271004</td>\n",
       "      <td>-0.420489</td>\n",
       "      <td>-0.457197</td>\n",
       "      <td>1.000000</td>\n",
       "      <td>0.775334</td>\n",
       "      <td>0.196041</td>\n",
       "      <td>0.972245</td>\n",
       "      <td>0.906970</td>\n",
       "      <td>-0.298334</td>\n",
       "    </tr>\n",
       "    <tr>\n",
       "      <th>cons.price.idx</th>\n",
       "      <td>0.000857</td>\n",
       "      <td>-0.042785</td>\n",
       "      <td>-0.024995</td>\n",
       "      <td>-0.079517</td>\n",
       "      <td>0.168073</td>\n",
       "      <td>-0.066337</td>\n",
       "      <td>0.006315</td>\n",
       "      <td>-0.591474</td>\n",
       "      <td>-0.330558</td>\n",
       "      <td>-0.004586</td>\n",
       "      <td>...</td>\n",
       "      <td>0.127836</td>\n",
       "      <td>0.078889</td>\n",
       "      <td>-0.203130</td>\n",
       "      <td>-0.259746</td>\n",
       "      <td>0.775334</td>\n",
       "      <td>1.000000</td>\n",
       "      <td>0.058986</td>\n",
       "      <td>0.688230</td>\n",
       "      <td>0.522034</td>\n",
       "      <td>-0.136211</td>\n",
       "    </tr>\n",
       "    <tr>\n",
       "      <th>cons.conf.idx</th>\n",
       "      <td>0.129372</td>\n",
       "      <td>0.023762</td>\n",
       "      <td>-0.051013</td>\n",
       "      <td>0.071758</td>\n",
       "      <td>0.026522</td>\n",
       "      <td>-0.027737</td>\n",
       "      <td>-0.005895</td>\n",
       "      <td>-0.251614</td>\n",
       "      <td>-0.060670</td>\n",
       "      <td>-0.000099</td>\n",
       "      <td>...</td>\n",
       "      <td>-0.013733</td>\n",
       "      <td>-0.091342</td>\n",
       "      <td>-0.050936</td>\n",
       "      <td>-0.041728</td>\n",
       "      <td>0.196041</td>\n",
       "      <td>0.058986</td>\n",
       "      <td>1.000000</td>\n",
       "      <td>0.277686</td>\n",
       "      <td>0.100513</td>\n",
       "      <td>0.054878</td>\n",
       "    </tr>\n",
       "    <tr>\n",
       "      <th>euribor3m</th>\n",
       "      <td>0.010767</td>\n",
       "      <td>-0.055631</td>\n",
       "      <td>-0.054623</td>\n",
       "      <td>-0.024348</td>\n",
       "      <td>0.195336</td>\n",
       "      <td>-0.052739</td>\n",
       "      <td>0.001547</td>\n",
       "      <td>-0.399773</td>\n",
       "      <td>-0.276126</td>\n",
       "      <td>-0.005552</td>\n",
       "      <td>...</td>\n",
       "      <td>0.135133</td>\n",
       "      <td>0.296899</td>\n",
       "      <td>-0.454494</td>\n",
       "      <td>-0.478687</td>\n",
       "      <td>0.972245</td>\n",
       "      <td>0.688230</td>\n",
       "      <td>0.277686</td>\n",
       "      <td>1.000000</td>\n",
       "      <td>0.945154</td>\n",
       "      <td>-0.307771</td>\n",
       "    </tr>\n",
       "    <tr>\n",
       "      <th>nr.employed</th>\n",
       "      <td>-0.017725</td>\n",
       "      <td>-0.065477</td>\n",
       "      <td>-0.050058</td>\n",
       "      <td>-0.025485</td>\n",
       "      <td>0.189845</td>\n",
       "      <td>-0.042281</td>\n",
       "      <td>0.002464</td>\n",
       "      <td>-0.269155</td>\n",
       "      <td>-0.262145</td>\n",
       "      <td>-0.000734</td>\n",
       "      <td>...</td>\n",
       "      <td>0.144095</td>\n",
       "      <td>0.372605</td>\n",
       "      <td>-0.501333</td>\n",
       "      <td>-0.509597</td>\n",
       "      <td>0.906970</td>\n",
       "      <td>0.522034</td>\n",
       "      <td>0.100513</td>\n",
       "      <td>0.945154</td>\n",
       "      <td>1.000000</td>\n",
       "      <td>-0.354678</td>\n",
       "    </tr>\n",
       "    <tr>\n",
       "      <th>Target</th>\n",
       "      <td>0.030399</td>\n",
       "      <td>0.045647</td>\n",
       "      <td>0.026302</td>\n",
       "      <td>0.045721</td>\n",
       "      <td>-0.099352</td>\n",
       "      <td>0.009552</td>\n",
       "      <td>-0.005038</td>\n",
       "      <td>0.144773</td>\n",
       "      <td>0.183471</td>\n",
       "      <td>0.010051</td>\n",
       "      <td>...</td>\n",
       "      <td>-0.066357</td>\n",
       "      <td>-0.324914</td>\n",
       "      <td>0.230181</td>\n",
       "      <td>0.270373</td>\n",
       "      <td>-0.298334</td>\n",
       "      <td>-0.136211</td>\n",
       "      <td>0.054878</td>\n",
       "      <td>-0.307771</td>\n",
       "      <td>-0.354678</td>\n",
       "      <td>1.000000</td>\n",
       "    </tr>\n",
       "  </tbody>\n",
       "</table>\n",
       "<p>21 rows × 21 columns</p>\n",
       "</div>"
      ],
      "text/plain": [
       "                       age       job   marital  education   default   housing  \\\n",
       "age               1.000000 -0.014993 -0.114983  -0.091900  0.164965 -0.001923   \n",
       "job              -0.014993  1.000000 -0.000965   0.192795 -0.023549  0.006694   \n",
       "marital          -0.114983 -0.000965  1.000000   0.063774 -0.103930  0.007436   \n",
       "education        -0.091900  0.192795  0.063774   1.000000 -0.144138  0.013023   \n",
       "default           0.164965 -0.023549 -0.103930  -0.144138  1.000000 -0.011051   \n",
       "housing          -0.001923  0.006694  0.007436   0.013023 -0.011051  1.000000   \n",
       "loan             -0.006397 -0.005909  0.001719   0.001887  0.000970  0.289759   \n",
       "contact          -0.007021  0.021200  0.043564   0.095383 -0.135238  0.065393   \n",
       "month             0.083423  0.073373  0.020613   0.114478 -0.135510  0.046369   \n",
       "day_of_week      -0.018486 -0.000986 -0.004210   0.008519 -0.004286 -0.007088   \n",
       "duration         -0.000866  0.006392  0.001220  -0.014778 -0.011794 -0.009050   \n",
       "campaign          0.004594 -0.016045  0.002269  -0.001521  0.032825 -0.010190   \n",
       "pdays            -0.034369 -0.044428 -0.017635  -0.034772  0.080062 -0.008741   \n",
       "previous          0.024365  0.042798  0.030222   0.022826 -0.102416  0.021002   \n",
       "previous_outcome  0.026371  0.040643  0.030627   0.025419 -0.108159  0.021433   \n",
       "emp.var.rate     -0.000371 -0.065368 -0.048931  -0.033385  0.203263 -0.053458   \n",
       "cons.price.idx    0.000857 -0.042785 -0.024995  -0.079517  0.168073 -0.066337   \n",
       "cons.conf.idx     0.129372  0.023762 -0.051013   0.071758  0.026522 -0.027737   \n",
       "euribor3m         0.010767 -0.055631 -0.054623  -0.024348  0.195336 -0.052739   \n",
       "nr.employed      -0.017725 -0.065477 -0.050058  -0.025485  0.189845 -0.042281   \n",
       "Target            0.030399  0.045647  0.026302   0.045721 -0.099352  0.009552   \n",
       "\n",
       "                      loan   contact     month  day_of_week  ...  campaign  \\\n",
       "age              -0.006397 -0.007021  0.083423    -0.018486  ...  0.004594   \n",
       "job              -0.005909  0.021200  0.073373    -0.000986  ... -0.016045   \n",
       "marital           0.001719  0.043564  0.020613    -0.004210  ...  0.002269   \n",
       "education         0.001887  0.095383  0.114478     0.008519  ... -0.001521   \n",
       "default           0.000970 -0.135238 -0.135510    -0.004286  ...  0.032825   \n",
       "housing           0.289759  0.065393  0.046369    -0.007088  ... -0.010190   \n",
       "loan              1.000000 -0.004391 -0.009311     0.003206  ...  0.003899   \n",
       "contact          -0.004391  1.000000  0.430499    -0.019583  ... -0.077368   \n",
       "month            -0.009311  0.430499  1.000000     0.011701  ... -0.080737   \n",
       "day_of_week       0.003206 -0.019583  0.011701     1.000000  ...  0.015098   \n",
       "duration         -0.003194  0.026657  0.018180     0.010549  ... -0.071699   \n",
       "campaign          0.003899 -0.077368 -0.080737     0.015098  ...  1.000000   \n",
       "pdays             0.001298 -0.117970 -0.135025     0.006765  ...  0.052584   \n",
       "previous          0.000846  0.212848  0.175737     0.004013  ... -0.079141   \n",
       "previous_outcome -0.000581  0.226813  0.184769     0.003279  ... -0.086083   \n",
       "emp.var.rate      0.003055 -0.393584 -0.306009    -0.004401  ...  0.150754   \n",
       "cons.price.idx    0.006315 -0.591474 -0.330558    -0.004586  ...  0.127836   \n",
       "cons.conf.idx    -0.005895 -0.251614 -0.060670    -0.000099  ... -0.013733   \n",
       "euribor3m         0.001547 -0.399773 -0.276126    -0.005552  ...  0.135133   \n",
       "nr.employed       0.002464 -0.269155 -0.262145    -0.000734  ...  0.144095   \n",
       "Target           -0.005038  0.144773  0.183471     0.010051  ... -0.066357   \n",
       "\n",
       "                     pdays  previous  previous_outcome  emp.var.rate  \\\n",
       "age              -0.034369  0.024365          0.026371     -0.000371   \n",
       "job              -0.044428  0.042798          0.040643     -0.065368   \n",
       "marital          -0.017635  0.030222          0.030627     -0.048931   \n",
       "education        -0.034772  0.022826          0.025419     -0.033385   \n",
       "default           0.080062 -0.102416         -0.108159      0.203263   \n",
       "housing          -0.008741  0.021002          0.021433     -0.053458   \n",
       "loan              0.001298  0.000846         -0.000581      0.003055   \n",
       "contact          -0.117970  0.212848          0.226813     -0.393584   \n",
       "month            -0.135025  0.175737          0.184769     -0.306009   \n",
       "day_of_week       0.006765  0.004013          0.003279     -0.004401   \n",
       "duration         -0.047577  0.020640          0.026465     -0.027968   \n",
       "campaign          0.052584 -0.079141         -0.086083      0.150754   \n",
       "pdays             1.000000 -0.587514         -0.744679      0.271004   \n",
       "previous         -0.587514  1.000000          0.868540     -0.420489   \n",
       "previous_outcome -0.744679  0.868540          1.000000     -0.457197   \n",
       "emp.var.rate      0.271004 -0.420489         -0.457197      1.000000   \n",
       "cons.price.idx    0.078889 -0.203130         -0.259746      0.775334   \n",
       "cons.conf.idx    -0.091342 -0.050936         -0.041728      0.196041   \n",
       "euribor3m         0.296899 -0.454494         -0.478687      0.972245   \n",
       "nr.employed       0.372605 -0.501333         -0.509597      0.906970   \n",
       "Target           -0.324914  0.230181          0.270373     -0.298334   \n",
       "\n",
       "                  cons.price.idx  cons.conf.idx  euribor3m  nr.employed  \\\n",
       "age                     0.000857       0.129372   0.010767    -0.017725   \n",
       "job                    -0.042785       0.023762  -0.055631    -0.065477   \n",
       "marital                -0.024995      -0.051013  -0.054623    -0.050058   \n",
       "education              -0.079517       0.071758  -0.024348    -0.025485   \n",
       "default                 0.168073       0.026522   0.195336     0.189845   \n",
       "housing                -0.066337      -0.027737  -0.052739    -0.042281   \n",
       "loan                    0.006315      -0.005895   0.001547     0.002464   \n",
       "contact                -0.591474      -0.251614  -0.399773    -0.269155   \n",
       "month                  -0.330558      -0.060670  -0.276126    -0.262145   \n",
       "day_of_week            -0.004586      -0.000099  -0.005552    -0.000734   \n",
       "duration                0.005312      -0.008173  -0.032897    -0.044703   \n",
       "campaign                0.127836      -0.013733   0.135133     0.144095   \n",
       "pdays                   0.078889      -0.091342   0.296899     0.372605   \n",
       "previous               -0.203130      -0.050936  -0.454494    -0.501333   \n",
       "previous_outcome       -0.259746      -0.041728  -0.478687    -0.509597   \n",
       "emp.var.rate            0.775334       0.196041   0.972245     0.906970   \n",
       "cons.price.idx          1.000000       0.058986   0.688230     0.522034   \n",
       "cons.conf.idx           0.058986       1.000000   0.277686     0.100513   \n",
       "euribor3m               0.688230       0.277686   1.000000     0.945154   \n",
       "nr.employed             0.522034       0.100513   0.945154     1.000000   \n",
       "Target                 -0.136211       0.054878  -0.307771    -0.354678   \n",
       "\n",
       "                    Target  \n",
       "age               0.030399  \n",
       "job               0.045647  \n",
       "marital           0.026302  \n",
       "education         0.045721  \n",
       "default          -0.099352  \n",
       "housing           0.009552  \n",
       "loan             -0.005038  \n",
       "contact           0.144773  \n",
       "month             0.183471  \n",
       "day_of_week       0.010051  \n",
       "duration          0.405274  \n",
       "campaign         -0.066357  \n",
       "pdays            -0.324914  \n",
       "previous          0.230181  \n",
       "previous_outcome  0.270373  \n",
       "emp.var.rate     -0.298334  \n",
       "cons.price.idx   -0.136211  \n",
       "cons.conf.idx     0.054878  \n",
       "euribor3m        -0.307771  \n",
       "nr.employed      -0.354678  \n",
       "Target            1.000000  \n",
       "\n",
       "[21 rows x 21 columns]"
      ]
     },
     "execution_count": 43,
     "metadata": {},
     "output_type": "execute_result"
    }
   ],
   "source": [
    "cor"
   ]
  },
  {
   "cell_type": "markdown",
   "id": "45b8d007",
   "metadata": {},
   "source": [
    "To understand more about factors contributing to signing a loan using Target as the target which is most closely correlated with duration. "
   ]
  },
  {
   "cell_type": "markdown",
   "id": "f59d2ed5",
   "metadata": {},
   "source": [
    "# KNN"
   ]
  },
  {
   "cell_type": "markdown",
   "id": "6ff708bb",
   "metadata": {},
   "source": [
    "## Define Targets and Features"
   ]
  },
  {
   "cell_type": "code",
   "execution_count": 44,
   "id": "88ebcaad",
   "metadata": {},
   "outputs": [
    {
     "data": {
      "text/plain": [
       "(41188, 22)"
      ]
     },
     "execution_count": 44,
     "metadata": {},
     "output_type": "execute_result"
    }
   ],
   "source": [
    "df.shape"
   ]
  },
  {
   "cell_type": "code",
   "execution_count": 45,
   "id": "80c46de4",
   "metadata": {},
   "outputs": [],
   "source": [
    "cols = df.columns\n",
    "target_col = 'Target'\n",
    "feat_cols = [c for c in cols if c != target_col]\n",
    "\n",
    "array = df.values\n",
    "\n",
    "X = array[:, 1:2]\n",
    "y = array[:, 0]"
   ]
  },
  {
   "cell_type": "code",
   "execution_count": 46,
   "id": "9a7b5738",
   "metadata": {},
   "outputs": [
    {
     "data": {
      "text/plain": [
       "array([56, 57, 37, ..., 56, 44, 74], dtype=object)"
      ]
     },
     "execution_count": 46,
     "metadata": {},
     "output_type": "execute_result"
    }
   ],
   "source": [
    "y"
   ]
  },
  {
   "cell_type": "markdown",
   "id": "0707a885",
   "metadata": {},
   "source": [
    "## Split into Test and Train"
   ]
  },
  {
   "cell_type": "code",
   "execution_count": 47,
   "id": "23b886dd",
   "metadata": {},
   "outputs": [],
   "source": [
    "X_train, X_test, y_train, y_test = train_test_split(X, y, test_size=0.2, random_state=42)"
   ]
  },
  {
   "cell_type": "markdown",
   "id": "d9ccf816",
   "metadata": {},
   "source": [
    "### Set up KNN Regressor"
   ]
  },
  {
   "cell_type": "code",
   "execution_count": 48,
   "id": "54d4a9d2",
   "metadata": {},
   "outputs": [
    {
     "data": {
      "text/plain": [
       "KNeighborsRegressor(n_jobs=-1, n_neighbors=3)"
      ]
     },
     "execution_count": 48,
     "metadata": {},
     "output_type": "execute_result"
    }
   ],
   "source": [
    "import numpy as np\n",
    "model = KNeighborsRegressor(n_neighbors=3, n_jobs=-1)\n",
    "model.fit(X_train, y_train)"
   ]
  },
  {
   "cell_type": "markdown",
   "id": "cb348d38",
   "metadata": {},
   "source": [
    "#### Create Predictions About the Model For the Test Set and Display the Actuals and Predictions"
   ]
  },
  {
   "cell_type": "code",
   "execution_count": 49,
   "id": "146405f9",
   "metadata": {},
   "outputs": [
    {
     "name": "stdout",
     "output_type": "stream",
     "text": [
      "Actuals for test data set\n",
      "[57 55 33 ... 46 31 59]\n",
      "Predictions for test data set\n",
      "[38.333333333333336 37.666666666666664 39.0 ... 60.0 31.666666666666668\n",
      " 31.666666666666668]\n"
     ]
    }
   ],
   "source": [
    "# Predictions\n",
    "preds = model.predict(X_test)\n",
    "\n",
    "# Show Actuals and Predcitions \n",
    "print('Actuals for test data set')\n",
    "print(y_test)\n",
    "print('Predictions for test data set')\n",
    "print(preds)"
   ]
  },
  {
   "cell_type": "markdown",
   "id": "eb82d4f4",
   "metadata": {},
   "source": [
    "These predictions are the predicted nearest neighhbors according to the test set"
   ]
  },
  {
   "cell_type": "markdown",
   "id": "963125a2",
   "metadata": {},
   "source": [
    "#### Look at the difference between the y_testset and the predictions done above"
   ]
  },
  {
   "cell_type": "code",
   "execution_count": 50,
   "id": "a08e61d9",
   "metadata": {},
   "outputs": [
    {
     "name": "stdout",
     "output_type": "stream",
     "text": [
      "Differences between the two sets\n",
      "[18.666666666666664 17.333333333333336 -6.0 ... -14.0 -0.6666666666666679\n",
      " 27.333333333333332]\n"
     ]
    }
   ],
   "source": [
    "#compare the two sets\n",
    "differs = y_test - preds\n",
    "print('Differences between the two sets')\n",
    "print(differs)"
   ]
  },
  {
   "cell_type": "markdown",
   "id": "0560bbc8",
   "metadata": {},
   "source": [
    "#### Determine R2 score for reliability of alogorithm chosen "
   ]
  },
  {
   "cell_type": "code",
   "execution_count": 51,
   "id": "5fafc536",
   "metadata": {},
   "outputs": [
    {
     "name": "stdout",
     "output_type": "stream",
     "text": [
      "-0.011675537245497525\n"
     ]
    }
   ],
   "source": [
    "from sklearn.metrics import r2_score\n",
    "\n",
    "print(r2_score(y_test,preds))"
   ]
  },
  {
   "cell_type": "markdown",
   "id": "ce2679d4",
   "metadata": {},
   "source": [
    "r2 score is -0.0117 which means the input features were not ignored (would be 0.0 if ignored), however, -0.0117 with 1 beign the best score possible, is low"
   ]
  },
  {
   "cell_type": "markdown",
   "id": "1ea81c4b",
   "metadata": {},
   "source": [
    "#### Determine Explained Variance Score"
   ]
  },
  {
   "cell_type": "code",
   "execution_count": 52,
   "id": "ef6438ec",
   "metadata": {},
   "outputs": [
    {
     "name": "stdout",
     "output_type": "stream",
     "text": [
      "-0.009368128383602459\n"
     ]
    }
   ],
   "source": [
    "from sklearn.metrics import explained_variance_score\n",
    "\n",
    "print(explained_variance_score(y_test,preds))"
   ]
  },
  {
   "cell_type": "markdown",
   "id": "99e7fb31",
   "metadata": {},
   "source": [
    "-.0094 is not a good score, this could be because of the number of clusters chosen. Would be a better idea to determine the number of clusters instead of guessing"
   ]
  },
  {
   "cell_type": "markdown",
   "id": "0343fa32",
   "metadata": {},
   "source": [
    "#### Determine Optimal Number of Clusters"
   ]
  },
  {
   "cell_type": "markdown",
   "id": "657a9358",
   "metadata": {},
   "source": [
    "Iterate through various numbers of k values (count of nearest neighbors) and look at the score for various models with the varying k values"
   ]
  },
  {
   "cell_type": "code",
   "execution_count": 54,
   "id": "172a52e4",
   "metadata": {},
   "outputs": [
    {
     "name": "stdout",
     "output_type": "stream",
     "text": [
      "Features: ['age', 'job', 'marital', 'education', 'default', 'housing', 'loan', 'contact', 'month', 'day_of_week', 'duration', 'campaign', 'pdays', 'previous', 'previous_outcome', 'emp.var.rate', 'cons.price.idx', 'cons.conf.idx', 'euribor3m', 'nr.employed'] \n",
      "Target: Target\n",
      "Evaluating 2 clusters\n",
      "Evaluating 3 clusters\n",
      "Evaluating 4 clusters\n",
      "Evaluating 5 clusters\n",
      "Evaluating 6 clusters\n",
      "Evaluating 7 clusters\n",
      "Evaluating 8 clusters\n",
      "Evaluating 9 clusters\n",
      "Evaluating 10 clusters\n",
      "Evaluating 11 clusters\n",
      "Evaluating 12 clusters\n",
      "Evaluating 13 clusters\n",
      "Evaluating 14 clusters\n",
      "Evaluating 15 clusters\n",
      "Evaluating 16 clusters\n",
      "Evaluating 17 clusters\n",
      "Evaluating 18 clusters\n",
      "Evaluating 19 clusters\n"
     ]
    }
   ],
   "source": [
    "scores = []\n",
    "print(f'Features: {feat_cols} \\nTarget: {target_col}')\n",
    "\n",
    "for k in range(2, 20):\n",
    "    print(f'Evaluating {k} clusters')\n",
    "    \n",
    "    model = KNeighborsRegressor(n_neighbors=k, n_jobs=-1)\n",
    "    model.fit(X_train, y_train)\n",
    "    scores.append(model.score(X_test, y_test))"
   ]
  },
  {
   "cell_type": "code",
   "execution_count": 55,
   "id": "97885a43",
   "metadata": {},
   "outputs": [
    {
     "data": {
      "image/png": "[encoded data removed]",
      "text/plain": [
       "<Figure size 432x288 with 1 Axes>"
      ]
     },
     "metadata": {},
     "output_type": "display_data"
    }
   ],
   "source": [
    "# Graph Results of Calculation Above\n",
    "plt.plot(range(2, 20), scores)\n",
    "plt.scatter(range(2, 20), scores)\n",
    "plt.grid()\n",
    "_ =plt.xticks(range(2, 20))"
   ]
  },
  {
   "cell_type": "markdown",
   "id": "f760b1af",
   "metadata": {},
   "source": [
    "Instead of 3, 19 gives us the highest r2 value at around .20 telling the best number of clusters is 19 with k =19"
   ]
  },
  {
   "cell_type": "markdown",
   "id": "f1b1b246",
   "metadata": {},
   "source": [
    "#### Refit the model to the new k value and show Predictions as well as Actuals"
   ]
  },
  {
   "cell_type": "code",
   "execution_count": 56,
   "id": "bc8e8bcd",
   "metadata": {},
   "outputs": [
    {
     "name": "stdout",
     "output_type": "stream",
     "text": [
      "Actuals for test data set\n",
      "[57 55 33 ... 46 31 59]\n",
      "Predictions for test data set\n",
      "[39.26315789473684 42.21052631578947 39.8421052631579 ...\n",
      " 44.578947368421055 35.68421052631579 35.68421052631579]\n"
     ]
    }
   ],
   "source": [
    "model = KNeighborsRegressor(n_neighbors=19, n_jobs=-1)\n",
    "model.fit(X_train, y_train)\n",
    "\n",
    "preds = model.predict(X_test)\n",
    "\n",
    "print('Actuals for test data set')\n",
    "print(y_test)\n",
    "print('Predictions for test data set')\n",
    "print(preds)"
   ]
  },
  {
   "cell_type": "markdown",
   "id": "fba30788",
   "metadata": {},
   "source": [
    "#### Look at the difference between the two sets above"
   ]
  },
  {
   "cell_type": "code",
   "execution_count": 58,
   "id": "594978ee",
   "metadata": {},
   "outputs": [
    {
     "name": "stdout",
     "output_type": "stream",
     "text": [
      "Differences between the two sets:\n",
      "[17.736842105263158 12.789473684210527 -6.842105263157897 ...\n",
      " 1.4210526315789451 -4.684210526315788 23.315789473684212]\n",
      "\n",
      "r2_score: 0.22402587317542577\n"
     ]
    }
   ],
   "source": [
    "differs = y_test - preds\n",
    "\n",
    "print(f'Differences between the two sets:\\n{differs}\\n')\n",
    "\n",
    "print(f'r2_score: {r2_score(y_test,preds)}')"
   ]
  },
  {
   "cell_type": "markdown",
   "id": "e72ec86b",
   "metadata": {},
   "source": [
    "The R2 score is much higher from -0.0117 to .22. This score is not the best, looking at other models would be a good idea. "
   ]
  },
  {
   "cell_type": "markdown",
   "id": "c7b050ec",
   "metadata": {},
   "source": [
    "## KNN Analysis"
   ]
  },
  {
   "cell_type": "markdown",
   "id": "c6f6faf4",
   "metadata": {},
   "source": [
    "- The optimal k value for the data is 19\n",
    "- Accuracy is .09% \n",
    "- The tuned R2 value for KNN is .22 which is a major improvement from -0.012\n",
    "\n",
    "Improve model:\n",
    "- We could rescale the model since there are such a large number of data points\n",
    "- Look at overfitting or underfitting in the model and tune from there to improve accuracy rating. \n",
    "The Accuracy rating is really low so it would be important to evaluate the cause of of that. When initially looking at the datset, there were many errors such as labeling missing data as \"unknown.\" Doing so makes it more difficult to look at the missing values and handle them. It is possible those responsbile for collecting the data and working with the dataset made errors which could cause low accuracy scores with the model. \n"
   ]
  },
  {
   "cell_type": "markdown",
   "id": "0041c63c",
   "metadata": {},
   "source": [
    "## Other Regression Algorithms"
   ]
  },
  {
   "cell_type": "markdown",
   "id": "65677718",
   "metadata": {},
   "source": [
    "It is always a good idea to look at other algorthims, especially since the score for KNN r2 value was .22"
   ]
  },
  {
   "cell_type": "code",
   "execution_count": 76,
   "id": "6d0a63e9",
   "metadata": {},
   "outputs": [],
   "source": [
    "#Import Libraries\n",
    "from sklearn.preprocessing import StandardScaler\n",
    "from sklearn.model_selection import train_test_split\n",
    "from sklearn.model_selection import KFold\n",
    "from sklearn.model_selection import cross_val_score\n",
    "from sklearn.model_selection import GridSearchCV\n",
    "from sklearn.linear_model import LinearRegression\n",
    "from sklearn.linear_model import Lasso\n",
    "from sklearn.linear_model import ElasticNet\n",
    "from sklearn.tree import DecisionTreeRegressor\n",
    "from sklearn.neighbors import KNeighborsRegressor\n",
    "from sklearn.svm import SVR\n",
    "from sklearn.pipeline import Pipeline\n",
    "from sklearn.ensemble import RandomForestRegressor\n",
    "from sklearn.ensemble import GradientBoostingRegressor\n",
    "from sklearn.ensemble import ExtraTreesRegressor\n",
    "from sklearn.ensemble import AdaBoostRegressor\n",
    "from sklearn.metrics import mean_squared_error\n",
    "\n",
    "from matplotlib import pyplot"
   ]
  },
  {
   "cell_type": "code",
   "execution_count": 77,
   "id": "53357539",
   "metadata": {},
   "outputs": [],
   "source": [
    "# Spot Check Algorithms\n",
    "models = []\n",
    "models.append(('LR', LinearRegression()))\n",
    "models.append(('LASSO', Lasso()))\n",
    "models.append(('EN', ElasticNet()))\n",
    "models.append(('KNN', KNeighborsRegressor()))\n",
    "models.append(('CART', DecisionTreeRegressor()))\n",
    "models.append(('SVR', SVR(gamma='df')))"
   ]
  },
  {
   "cell_type": "markdown",
   "id": "2cc75966",
   "metadata": {},
   "source": [
    "Spot checking alogorthims is important because it will tell the algorithms best at understanding the structure of the problem"
   ]
  },
  {
   "cell_type": "code",
   "execution_count": 78,
   "id": "0a3358af",
   "metadata": {},
   "outputs": [],
   "source": [
    "# evaluate each model \n",
    "seed = 42\n",
    "num_folds = 5\n",
    "scoring = 'neg_mean_squared_error'"
   ]
  },
  {
   "cell_type": "code",
   "execution_count": 79,
   "id": "0b7f613c",
   "metadata": {},
   "outputs": [
    {
     "name": "stdout",
     "output_type": "stream",
     "text": [
      "LR: -108.893912 (3.062135)\n",
      "LASSO: -108.920069 (3.069469)\n",
      "EN: -108.920055 (3.069455)\n",
      "KNN: -100.679587 (10.322640)\n",
      "CART: -81.433157 (1.179639)\n",
      "SVR: nan (nan)\n"
     ]
    }
   ],
   "source": [
    "#Results of Spot checking Each Model \n",
    "results = []\n",
    "names = []\n",
    "for name, model in models:\n",
    "    kfold = KFold(n_splits=num_folds, random_state=seed, shuffle=True)\n",
    "    cv_results = cross_val_score(model, X_train, y_train, cv=kfold, scoring=scoring)\n",
    "    results.append(cv_results)\n",
    "    names.append(name)\n",
    "    msg = \"%s: %f (%f)\" % (name, cv_results.mean(), cv_results.std())\n",
    "    print(msg)"
   ]
  },
  {
   "cell_type": "markdown",
   "id": "4b74b035",
   "metadata": {},
   "source": [
    "CART is the closest to zeron at 1.17 making is the best scored alogrithm for the problem"
   ]
  },
  {
   "cell_type": "code",
   "execution_count": 80,
   "id": "25385372",
   "metadata": {},
   "outputs": [
    {
     "data": {
      "image/png": "[encoded data removed]",
      "text/plain": [
       "<Figure size 432x288 with 1 Axes>"
      ]
     },
     "metadata": {},
     "output_type": "display_data"
    }
   ],
   "source": [
    "# Compare Algorithms\n",
    "fig = pyplot.figure()\n",
    "fig.suptitle('Algorithm Comparison')\n",
    "ax = fig.add_subplot(111)\n",
    "pyplot.boxplot(results)\n",
    "ax.set_xticklabels(names)\n",
    "pyplot.show()"
   ]
  },
  {
   "cell_type": "markdown",
   "id": "b51381fa",
   "metadata": {},
   "source": [
    "This confirms that CART scores significantly better than all other of the algorthims"
   ]
  },
  {
   "cell_type": "markdown",
   "id": "174806bc",
   "metadata": {},
   "source": [
    "#### Look at results again without the highest spot checking scores"
   ]
  },
  {
   "cell_type": "code",
   "execution_count": 81,
   "id": "71fcf914",
   "metadata": {},
   "outputs": [
    {
     "data": {
      "image/png": "[encoded data removed]",
      "text/plain": [
       "<Figure size 432x288 with 1 Axes>"
      ]
     },
     "metadata": {},
     "output_type": "display_data"
    }
   ],
   "source": [
    "fig = pyplot.figure()\n",
    "fig.suptitle('Algorithm Comparison')\n",
    "ax = fig.add_subplot(111)\n",
    "pyplot.boxplot(results[0:-2])\n",
    "ax.set_xticklabels(names[0:-2])\n",
    "pyplot.show()"
   ]
  },
  {
   "cell_type": "markdown",
   "id": "53839eec",
   "metadata": {},
   "source": [
    "## Scale the Data"
   ]
  },
  {
   "cell_type": "markdown",
   "id": "4ea996ab",
   "metadata": {},
   "source": [
    "Having a lot of data can affect the algorithims ability to understand the model and accurately trian. Scaling the data helps combat that issue. Also use the Pipeline function to insure all of the data is treated the same"
   ]
  },
  {
   "cell_type": "code",
   "execution_count": 82,
   "id": "56c87c12",
   "metadata": {},
   "outputs": [],
   "source": [
    "# Standardize the dataset\n",
    "pipelines = []\n",
    "pipelines.append(('ScaledLR', Pipeline([('Scaler', StandardScaler()),('LR', LinearRegression())])))\n",
    "pipelines.append(('ScaledLASSO', Pipeline([('Scaler', StandardScaler()),('LASSO', Lasso())])))\n",
    "pipelines.append(('ScaledEN', Pipeline([('Scaler', StandardScaler()),('EN', ElasticNet())])))\n",
    "pipelines.append(('ScaledKNN', Pipeline([('Scaler', StandardScaler()),('KNN', KNeighborsRegressor())])))\n",
    "pipelines.append(('ScaledCART', Pipeline([('Scaler', StandardScaler()),('CART', DecisionTreeRegressor())])))\n",
    "pipelines.append(('ScaledSVR', Pipeline([('Scaler', StandardScaler()),('SVR', SVR(gamma='df'))])))"
   ]
  },
  {
   "cell_type": "code",
   "execution_count": 83,
   "id": "6b290407",
   "metadata": {},
   "outputs": [
    {
     "name": "stdout",
     "output_type": "stream",
     "text": [
      "ScaledLR: -108.893912 (3.062135)\n",
      "ScaledLASSO: -108.920069 (3.069469)\n",
      "ScaledEN: -108.920069 (3.069469)\n",
      "ScaledKNN: -100.679587 (10.322640)\n",
      "ScaledCART: -81.433157 (1.179639)\n",
      "ScaledSVR: nan (nan)\n"
     ]
    }
   ],
   "source": [
    "results = []\n",
    "names = []\n",
    "for name, model in pipelines:\n",
    "    kfold = KFold(n_splits=num_folds, random_state=seed, shuffle=True)\n",
    "    cv_results = cross_val_score(model, X_train, y_train, cv=kfold, scoring=scoring)\n",
    "    results.append(cv_results)\n",
    "    names.append(name)\n",
    "    msg = \"%s: %f (%f)\" % (name, cv_results.mean(), cv_results.std())\n",
    "    print(msg)"
   ]
  },
  {
   "cell_type": "markdown",
   "id": "7f679c3c",
   "metadata": {},
   "source": [
    "It looks like CART stayed the same from before scaling the data at 1.179, scaling the data did not improve CART score"
   ]
  },
  {
   "cell_type": "code",
   "execution_count": 84,
   "id": "13e32c04",
   "metadata": {},
   "outputs": [
    {
     "data": {
      "image/png": "[encoded data removed]",
      "text/plain": [
       "<Figure size 432x288 with 1 Axes>"
      ]
     },
     "metadata": {},
     "output_type": "display_data"
    }
   ],
   "source": [
    "# Compare Algorithms\n",
    "fig = pyplot.figure()\n",
    "fig.suptitle('Scaled Algorithm Comparison')\n",
    "ax = fig.add_subplot(111)\n",
    "pyplot.boxplot(results)\n",
    "ax.set_xticklabels(names)\n",
    "pyplot.show()"
   ]
  },
  {
   "cell_type": "markdown",
   "id": "5cf0f6f3",
   "metadata": {},
   "source": [
    "# Ensemble Methods"
   ]
  },
  {
   "cell_type": "code",
   "execution_count": 86,
   "id": "79b2ea82",
   "metadata": {},
   "outputs": [],
   "source": [
    "# ensembles\n",
    "ensembles = []\n",
    "ensembles.append(('ScaledAB', Pipeline([('Scaler', StandardScaler()),('AB', AdaBoostRegressor())])))\n",
    "ensembles.append(('ScaledGBM', Pipeline([('Scaler', StandardScaler()),('GBM', GradientBoostingRegressor())])))\n",
    "ensembles.append(('ScaledRF', Pipeline([('Scaler', StandardScaler()),('RF', RandomForestRegressor(n_estimators=10))])))\n",
    "ensembles.append(('ScaledET', Pipeline([('Scaler', StandardScaler()),('ET', ExtraTreesRegressor(n_estimators=10))])))"
   ]
  },
  {
   "cell_type": "code",
   "execution_count": 89,
   "id": "a1a65015",
   "metadata": {},
   "outputs": [
    {
     "name": "stdout",
     "output_type": "stream",
     "text": [
      "ScaledAB: -87.299631 (1.675632)\n",
      "ScaledGBM: -81.433164 (1.176308)\n",
      "ScaledRF: -81.437464 (1.174610)\n",
      "ScaledET: -81.433157 (1.179639)\n"
     ]
    }
   ],
   "source": [
    "results = []\n",
    "names = []\n",
    "for name, model in ensembles:\n",
    "    kfold = KFold(n_splits=num_folds, random_state=seed, shuffle=True)\n",
    "    cv_results = cross_val_score(model, X_train, y_train, cv=kfold, scoring=scoring)\n",
    "    results.append(cv_results)\n",
    "    names.append(name)\n",
    "    target = \"%s: %f (%f)\" % (name, cv_results.mean(), cv_results.std())\n",
    "    print(target)"
   ]
  },
  {
   "cell_type": "markdown",
   "id": "f18951c4",
   "metadata": {},
   "source": [
    "All of the ensemble methods preformed better than the algorithms above, untuned GBM scored lower than the tuned CART algorthim"
   ]
  },
  {
   "cell_type": "code",
   "execution_count": 88,
   "id": "26988718",
   "metadata": {},
   "outputs": [
    {
     "data": {
      "image/png": "[encoded data removed]",
      "text/plain": [
       "<Figure size 432x288 with 1 Axes>"
      ]
     },
     "metadata": {},
     "output_type": "display_data"
    }
   ],
   "source": [
    "# Compare Algorithms\n",
    "fig = pyplot.figure()\n",
    "fig.suptitle('Scaled Ensemble Algorithm Comparison')\n",
    "ax = fig.add_subplot(111)\n",
    "pyplot.boxplot(results)\n",
    "ax.set_xticklabels(names)\n",
    "pyplot.show()"
   ]
  },
  {
   "cell_type": "markdown",
   "id": "2782e3b0",
   "metadata": {},
   "source": [
    "# Results"
   ]
  },
  {
   "cell_type": "markdown",
   "id": "326b7ace",
   "metadata": {},
   "source": [
    "- The best model fit for the target is Scaled GBM at 1.176\n",
    "- In comparison to KNN and Scaled GBM, Scaled GBM is a better fit for the model"
   ]
  }
 ],
 "metadata": {
  "kernelspec": {
   "display_name": "Python 3 (ipykernel)",
   "language": "python",
   "name": "python3"
  },
  "language_info": {
   "codemirror_mode": {
    "name": "ipython",
    "version": 3
   },
   "file_extension": ".py",
   "mimetype": "text/x-python",
   "name": "python",
   "nbconvert_exporter": "python",
   "pygments_lexer": "ipython3",
   "version": "3.8.8"
  }
 },
 "nbformat": 4,
 "nbformat_minor": 5
}
